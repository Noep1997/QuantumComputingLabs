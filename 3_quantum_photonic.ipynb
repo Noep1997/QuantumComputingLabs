{
 "cells": [
  {
   "cell_type": "code",
   "execution_count": 2,
   "metadata": {},
   "outputs": [],
   "source": [
    "import cmath\n",
    "import numpy as np\n",
    "import matplotlib.pyplot as plt\n",
    "import scipy.constants as sp\n",
    "from IPython.display import display\n",
    "from qutip import *\n",
    "%matplotlib notebook"
   ]
  },
  {
   "cell_type": "markdown",
   "metadata": {},
   "source": [
    "#### 1. Quantum Harmonic Oscillator: From the momentum-position representation to creation-annihilation representation "
   ]
  },
  {
   "cell_type": "markdown",
   "metadata": {},
   "source": [
    "(a) We have seen from lab 2 that the Hamiltonian of a harmonic oscillator is given by:\n",
    "\\begin{equation}\n",
    "\\hat{H} = \\frac{\\hat{p}^2}{2m} + \\frac{1}{2}m\\omega^2\\hat{x}^2\n",
    "\\end{equation}\n",
    "Using a 10-level system in QuTip, show that \n",
    "\\begin{equation}\n",
    "\\hat{H} = \\frac{\\hat{p}^2}{2m} + \\frac{1}{2}m\\omega^2\\hat{x}^2 = \\hbar\\omega(\\hat{a}^\\dagger\\hat{a} + \\frac{1}{2})\n",
    "\\end{equation}\n",
    "\n",
    "*Hints*: Look up the position(), momentum(), create(), and destroy() functions. "
   ]
  },
  {
   "cell_type": "code",
   "execution_count": 4,
   "metadata": {},
   "outputs": [
    {
     "data": {
      "text/latex": [
       "Quantum object: dims = [[10], [10]], shape = (10, 10), type = oper, isherm = True\\begin{equation*}\\left(\\begin{array}{*{11}c}0.500 & 0.0 & 0.0 & 0.0 & 0.0 & 0.0 & 0.0 & 0.0 & 0.0 & 0.0\\\\0.0 & 1.500 & 0.0 & 0.0 & 0.0 & 0.0 & 0.0 & 0.0 & 0.0 & 0.0\\\\0.0 & 0.0 & 2.500 & 0.0 & 0.0 & 0.0 & 0.0 & 0.0 & 0.0 & 0.0\\\\0.0 & 0.0 & 0.0 & 3.500 & 0.0 & 0.0 & 0.0 & 0.0 & 0.0 & 0.0\\\\0.0 & 0.0 & 0.0 & 0.0 & 4.500 & 0.0 & 0.0 & 0.0 & 0.0 & 0.0\\\\0.0 & 0.0 & 0.0 & 0.0 & 0.0 & 5.500 & 0.0 & 0.0 & 0.0 & 0.0\\\\0.0 & 0.0 & 0.0 & 0.0 & 0.0 & 0.0 & 6.500 & 0.0 & 0.0 & 0.0\\\\0.0 & 0.0 & 0.0 & 0.0 & 0.0 & 0.0 & 0.0 & 7.500 & 0.0 & 0.0\\\\0.0 & 0.0 & 0.0 & 0.0 & 0.0 & 0.0 & 0.0 & 0.0 & 8.500 & 0.0\\\\0.0 & 0.0 & 0.0 & 0.0 & 0.0 & 0.0 & 0.0 & 0.0 & 0.0 & 4.500\\\\\\end{array}\\right)\\end{equation*}"
      ],
      "text/plain": [
       "Quantum object: dims = [[10], [10]], shape = (10, 10), type = oper, isherm = True\n",
       "Qobj data =\n",
       "[[ 0.5  0.   0.   0.   0.   0.   0.   0.   0.   0. ]\n",
       " [ 0.   1.5  0.   0.   0.   0.   0.   0.   0.   0. ]\n",
       " [ 0.   0.   2.5  0.   0.   0.   0.   0.   0.   0. ]\n",
       " [ 0.   0.   0.   3.5  0.   0.   0.   0.   0.   0. ]\n",
       " [ 0.   0.   0.   0.   4.5  0.   0.   0.   0.   0. ]\n",
       " [ 0.   0.   0.   0.   0.   5.5  0.   0.   0.   0. ]\n",
       " [ 0.   0.   0.   0.   0.   0.   6.5  0.   0.   0. ]\n",
       " [ 0.   0.   0.   0.   0.   0.   0.   7.5  0.   0. ]\n",
       " [ 0.   0.   0.   0.   0.   0.   0.   0.   8.5  0. ]\n",
       " [ 0.   0.   0.   0.   0.   0.   0.   0.   0.   4.5]]"
      ]
     },
     "metadata": {},
     "output_type": "display_data"
    },
    {
     "data": {
      "text/latex": [
       "Quantum object: dims = [[10], [10]], shape = (10, 10), type = oper, isherm = True\\begin{equation*}\\left(\\begin{array}{*{11}c}0.500 & 0.0 & 0.0 & 0.0 & 0.0 & 0.0 & 0.0 & 0.0 & 0.0 & 0.0\\\\0.0 & 1.500 & 0.0 & 0.0 & 0.0 & 0.0 & 0.0 & 0.0 & 0.0 & 0.0\\\\0.0 & 0.0 & 2.500 & 0.0 & 0.0 & 0.0 & 0.0 & 0.0 & 0.0 & 0.0\\\\0.0 & 0.0 & 0.0 & 3.500 & 0.0 & 0.0 & 0.0 & 0.0 & 0.0 & 0.0\\\\0.0 & 0.0 & 0.0 & 0.0 & 4.500 & 0.0 & 0.0 & 0.0 & 0.0 & 0.0\\\\0.0 & 0.0 & 0.0 & 0.0 & 0.0 & 5.500 & 0.0 & 0.0 & 0.0 & 0.0\\\\0.0 & 0.0 & 0.0 & 0.0 & 0.0 & 0.0 & 6.500 & 0.0 & 0.0 & 0.0\\\\0.0 & 0.0 & 0.0 & 0.0 & 0.0 & 0.0 & 0.0 & 7.500 & 0.0 & 0.0\\\\0.0 & 0.0 & 0.0 & 0.0 & 0.0 & 0.0 & 0.0 & 0.0 & 8.500 & 0.0\\\\0.0 & 0.0 & 0.0 & 0.0 & 0.0 & 0.0 & 0.0 & 0.0 & 0.0 & 9.500\\\\\\end{array}\\right)\\end{equation*}"
      ],
      "text/plain": [
       "Quantum object: dims = [[10], [10]], shape = (10, 10), type = oper, isherm = True\n",
       "Qobj data =\n",
       "[[ 0.5  0.   0.   0.   0.   0.   0.   0.   0.   0. ]\n",
       " [ 0.   1.5  0.   0.   0.   0.   0.   0.   0.   0. ]\n",
       " [ 0.   0.   2.5  0.   0.   0.   0.   0.   0.   0. ]\n",
       " [ 0.   0.   0.   3.5  0.   0.   0.   0.   0.   0. ]\n",
       " [ 0.   0.   0.   0.   4.5  0.   0.   0.   0.   0. ]\n",
       " [ 0.   0.   0.   0.   0.   5.5  0.   0.   0.   0. ]\n",
       " [ 0.   0.   0.   0.   0.   0.   6.5  0.   0.   0. ]\n",
       " [ 0.   0.   0.   0.   0.   0.   0.   7.5  0.   0. ]\n",
       " [ 0.   0.   0.   0.   0.   0.   0.   0.   8.5  0. ]\n",
       " [ 0.   0.   0.   0.   0.   0.   0.   0.   0.   9.5]]"
      ]
     },
     "metadata": {},
     "output_type": "display_data"
    },
    {
     "data": {
      "text/plain": [
       "False"
      ]
     },
     "execution_count": 4,
     "metadata": {},
     "output_type": "execute_result"
    }
   ],
   "source": [
    "# initialize number of levels in the Hilbert space\n",
    "N = 10\n",
    "\n",
    "# initialize little_omega as 1 for ease of calculations\n",
    "# we also set the mass of the photon to 1 for ease of calculation\n",
    "# even though the actual mass is 0 and we set hbar to one for the \n",
    "# relative size of the values to fit (since we have an inflated m and w)\n",
    "little_omega = 1\n",
    "photon_mass = 1\n",
    "hbar = 1\n",
    "\n",
    "# calculate the Hamiltonian with the first equation and display it\n",
    "Hamiltonian1 = ((momentum(N)**2/(2 * photon_mass)) \n",
    "                 + 1/2 * (photon_mass * little_omega**2 * position(N)**2))\n",
    "display(Hamiltonian1)\n",
    "\n",
    "# calculate the Hamiltonian with the second equation and display it\n",
    "Hamiltonian2 = hbar * little_omega * (create(N) * destroy(N) + 1/2)\n",
    "display(Hamiltonian2)\n",
    "\n",
    "# As we can see, both Hamiltonians are mostly the same,\n",
    "# except the last value on the diagonal -- why? -- see (b)\n",
    "Hamiltonian1 == Hamiltonian2"
   ]
  },
  {
   "cell_type": "markdown",
   "metadata": {},
   "source": [
    "(b) Are the position-momentum and creation-annihilation representations of the Hamiltonians computed from QuTip exactly the same? If not, why? "
   ]
  },
  {
   "cell_type": "markdown",
   "metadata": {},
   "source": [
    "They are not exactly the same, but they are mostly similar. They are the same up to the last value on the diagonal, which is 4.5 for the position-momentum representation and 9.5 on the creation-annihilation representation.\n",
    "\n",
    "They are different because we have defined the position, momentum and annihilation/creation operators to be infinite Hilbert spaces however here, in QuTip, the creation and annihilation operator are mapped to a finite Hilbert space dimension (in this case 10). We can see this as sort of a \"rounding\" error (mapping infinite to finite forces us to crunch the last element which is what results in this difference between the two matrices). Therefore, the correct matrix is the original one with 4.5 on the last column and the one that we will use for the remainder of the lab."
   ]
  },
  {
   "cell_type": "markdown",
   "metadata": {},
   "source": [
    "(c) What are the Eigen energies of the Hamiltonian. Also write down the analytical form of the eigenenergies."
   ]
  },
  {
   "cell_type": "code",
   "execution_count": 5,
   "metadata": {},
   "outputs": [
    {
     "data": {
      "text/plain": [
       "array([ 0.5,  1.5,  2.5,  3.5,  4.5,  4.5,  5.5,  6.5,  7.5,  8.5])"
      ]
     },
     "metadata": {},
     "output_type": "display_data"
    }
   ],
   "source": [
    "# eigenenergies = eigenvalues\n",
    "# getting the eigenvalues and eigenvectors\n",
    "# of the appropriate Hamiltonian\n",
    "e_a = Hamiltonian1.eigenstates()\n",
    "\n",
    "# eigenvalues of the Hamiltonian (eigenenergies)\n",
    "display(e_a[0])\n",
    "\n",
    "# analytical start at hbar * omega / 2 at eigenenergy #0 \n",
    "# and then you add hbar * omega per level\n",
    "def analytical_form_eigenenergies(level):\n",
    "    return (hbar * little_omega) * level + (hbar * little_omega / 2)"
   ]
  },
  {
   "cell_type": "markdown",
   "metadata": {},
   "source": [
    "Analytical form above, but as a clearer formula: \n",
    "\\begin{equation}\n",
    "\\frac{\\hbar\\omega}{2} + \\hbar\\omega * energylevel\n",
    "\\end{equation}"
   ]
  },
  {
   "cell_type": "markdown",
   "metadata": {},
   "source": [
    "#### 2. The Number Operator"
   ]
  },
  {
   "cell_type": "markdown",
   "metadata": {},
   "source": [
    "(a) The code below creates a vacuum state, i.e., $\\vert 0\\rangle$ of a 10-level system. Find the expectation value of the Hamiltonian with respect to the vacuum state. What does the expectation value represent? "
   ]
  },
  {
   "cell_type": "code",
   "execution_count": 6,
   "metadata": {},
   "outputs": [
    {
     "data": {
      "text/plain": [
       "0.4999999999999999"
      ]
     },
     "metadata": {},
     "output_type": "display_data"
    }
   ],
   "source": [
    "# initialize vacuum state for 10-level system\n",
    "vacuumstate_10 = basis(10,0)\n",
    "\n",
    "# get expectation value with respect to the correct Hamiltonian\n",
    "expectation_value = expect(Hamiltonian1, vacuumstate_10)\n",
    "display(expectation_value) # if we round, this is 0.5"
   ]
  },
  {
   "cell_type": "markdown",
   "metadata": {},
   "source": [
    "# What does this expectation value represents:\n",
    "This expected value represents the energy of the vacuum state for our Hamiltonian. To speak in more mathematical terms, it represents the eigenvalue associated with the vacuum state of the Hamiltonian, and since we are using the vacuum state, we get the eigenvalue of the first column of our Hamiltonian, which is 0.5. Therefore, we can see that the expectation value measures the energy of the Hamiltonian on a given state."
   ]
  },
  {
   "cell_type": "markdown",
   "metadata": {},
   "source": [
    "(b) You know from Lab 2 that the creation operator acting on an n-fold excited state will produce a n+1-fold excited state. Perform the operation $(\\hat{a}^\\dagger)^2\\vert 0\\rangle$. What is the expectation value of the Hamiltonian with respect to this new state? Since each photon has an energy of $\\hbar\\omega$, what does this tell you about the number of photons in this state?\n",
    "\n",
    "*Tip*: normalize before finding expectation values"
   ]
  },
  {
   "cell_type": "code",
   "execution_count": 7,
   "metadata": {},
   "outputs": [
    {
     "data": {
      "text/plain": [
       "2.5"
      ]
     },
     "metadata": {},
     "output_type": "display_data"
    }
   ],
   "source": [
    "# generate the excited state and normalize it\n",
    "# before getting the expectation value\n",
    "excited_state = create(N)**2 * vacuumstate_10\n",
    "normalized_excited_state = excited_state / excited_state.norm()\n",
    "\n",
    "# get the expectation value and display it\n",
    "expectation_value = expect(Hamiltonian1, normalized_excited_state)\n",
    "display(expectation_value)"
   ]
  },
  {
   "cell_type": "markdown",
   "metadata": {},
   "source": [
    "# What does this tell you about the number of photons in this state\n",
    "Each photon has an energy hbar*little_omega. Since we are using 1 for both values here, then we have a photon has energy of 1 unit in this specific case, and we know that the base energy of the vacuum state, which contains no photon, is hbar*little_omega/2, which is 0.5 in our lab. Therefore, we have 2 photons in this excited state. This makes a lot of sense since we use the creation operator twice, effectievly creating two photons."
   ]
  },
  {
   "cell_type": "markdown",
   "metadata": {},
   "source": [
    "(c) Now find the expectation value of the operator $\\hat{a}^\\dagger\\hat{a}$ with respect to the new state from above."
   ]
  },
  {
   "cell_type": "code",
   "execution_count": 8,
   "metadata": {},
   "outputs": [
    {
     "data": {
      "text/plain": [
       "2.0000000000000004"
      ]
     },
     "metadata": {},
     "output_type": "display_data"
    }
   ],
   "source": [
    "# generate the creation*annihilation combined operator\n",
    "operator = create(N)*destroy(N)\n",
    "\n",
    "# we use the normalized one for consistency as we \n",
    "# always want to work with unit length vectors\n",
    "expec_val1 = expect(operator, normalized_excited_state)\n",
    "display(expec_val1) # this rounds at 2"
   ]
  },
  {
   "cell_type": "markdown",
   "metadata": {},
   "source": [
    "(d) From your knowledge so far, create a new state for your 10-level system such that the expectation value of the Harmonic oscillator with respect to that state is 6.5. Calculate the expectation value of the Hamiltonian. How many photons would this new state contain? Also, find the expectation value of the $\\hat{a}^\\dagger\\hat{a}$ operator using this state. What does that tell you about the $\\hat{a}^\\dagger\\hat{a}$ operator?"
   ]
  },
  {
   "cell_type": "code",
   "execution_count": 9,
   "metadata": {},
   "outputs": [
    {
     "data": {
      "text/plain": [
       "6.499999999999998"
      ]
     },
     "metadata": {},
     "output_type": "display_data"
    },
    {
     "data": {
      "text/plain": [
       "5.999999999999999"
      ]
     },
     "metadata": {},
     "output_type": "display_data"
    }
   ],
   "source": [
    "# 10-level system such that the expecttion value of\n",
    "# Harmonic oscillator with respect to the state is 6.5\n",
    "# we create the state so that we access the vector with\n",
    "# 6.5 for its eigenvalue\n",
    "neww_state = basis(10,6)\n",
    "\n",
    "# calculate expectation value of the Hamiltonian\n",
    "display(expect(Hamiltonian1, neww_state))\n",
    "# how many photons --> 6 photons in this new state\n",
    "# since the eigenvalue (energy is 6.5) and each photon has\n",
    "# energy 1 and the vacuum state has energy 0.5\n",
    "\n",
    "# find the expectation value of creation*annihilation operator on this state\n",
    "display(expect(operator, neww_state))"
   ]
  },
  {
   "cell_type": "markdown",
   "metadata": {},
   "source": [
    "# What does the expectation value tells us about the $\\hat{a}^\\dagger\\hat{a}$ operator:\n",
    "\n",
    "\n",
    "\n",
    "As we can see, the creation-annhilation operator expectation value on the new state is 1/2 off, which is why we normally add 1/2 to its value to accurately represent the Hamiltonian. Most of all, this makes sense because the $\\hat{a}^\\dagger\\hat{a}$ operator represents the energy level above the vacuum state energy level, or equivalently, the number of photons in the system. This is because the expectation is proportional to the energy of the system (since it tells us the number of photons), and therefore while the expectation of Hamiltonian1 gives us the total energy of the system (photons energy + vacuum state energy), the $\\hat{a}^\\dagger\\hat{a}$ operator only gives us the photons energy. Since it's value is 6 and we have hbar = 1 and little_omega = 1, it tells us that we have 6 photons."
   ]
  },
  {
   "cell_type": "markdown",
   "metadata": {},
   "source": [
    "#### 3. Quantum Computing Using Photons"
   ]
  },
  {
   "cell_type": "markdown",
   "metadata": {},
   "source": [
    "We have seen so far that the Harmonic oscillator can be entirely described using only the creation and annihilation operators. These operators mathematically describe the emission and absorption of photons, respectively. Also, you have seen that any photonic state can be written in terms of the creation operator acting on the vacuum state some number of times. A change in the state of a photon can therefore be described by a change in the creation operator. A quantum computer in principle works by storing information in states and computing by performing various unitary transformations and measurements on those states. We can model those again by using creation and anihilation operators. In this exercise, we will look at a few single-qubit tranformations which are essential for linear optical quantum computing. Note: we are assuming $\\hbar = 1$ for the following."
   ]
  },
  {
   "cell_type": "markdown",
   "metadata": {},
   "source": [
    "(a) Phase shifter (or delay line). A phase shifter physically is just a transparent slab (or optical fiber) with a refractive index that is different from the background (generally free space). It changes the phase of the electromagnetic field in a given mode (a mode is just another way of specifying spatially separated beams of photons). It can be mathematically described as follows:\n",
    "\\begin{equation}\n",
    "    \\hat{a}^\\dagger_{out} = e^{i\\phi}\\hat{a}^\\dagger_{in}\n",
    "\\end{equation}\n",
    "\n",
    "Starting with a vacuum state, create the input and output states for a phase shift of $\\pi/4$. Show that both these states have the same energy and therefore the same number of particles."
   ]
  },
  {
   "cell_type": "code",
   "execution_count": 4,
   "metadata": {},
   "outputs": [
    {
     "data": {
      "text/latex": [
       "Quantum object: dims = [[2], [1]], shape = (2, 1), type = ket\\begin{equation*}\\left(\\begin{array}{*{11}c}0.0\\\\1.0\\\\\\end{array}\\right)\\end{equation*}"
      ],
      "text/plain": [
       "Quantum object: dims = [[2], [1]], shape = (2, 1), type = ket\n",
       "Qobj data =\n",
       "[[0.]\n",
       " [1.]]"
      ]
     },
     "metadata": {},
     "output_type": "display_data"
    },
    {
     "data": {
      "text/latex": [
       "Quantum object: dims = [[2], [1]], shape = (2, 1), type = ket\\begin{equation*}\\left(\\begin{array}{*{11}c}0.0\\\\(0.707-0.707j)\\\\\\end{array}\\right)\\end{equation*}"
      ],
      "text/plain": [
       "Quantum object: dims = [[2], [1]], shape = (2, 1), type = ket\n",
       "Qobj data =\n",
       "[[0.        +0.j        ]\n",
       " [0.70710678-0.70710678j]]"
      ]
     },
     "metadata": {},
     "output_type": "display_data"
    },
    {
     "data": {
      "text/plain": [
       "1.5"
      ]
     },
     "metadata": {},
     "output_type": "display_data"
    },
    {
     "data": {
      "text/plain": [
       "1.5"
      ]
     },
     "metadata": {},
     "output_type": "display_data"
    }
   ],
   "source": [
    "# the input state is simply the vacuum state\n",
    "# since we go in with no photon\n",
    "psi0 = basis(2, 0)\n",
    "phi = np.pi / 4\n",
    "adag_in = create(2)\n",
    "operator = num(2) + 0.5\n",
    "psi_in = adag_in * psi0\n",
    "display(psi_in)\n",
    "\n",
    "# calculating a_out\n",
    "adag_in_mapping = np.exp(-1j * phi) * adag_in\n",
    "psi_out = adag_in_mapping * psi0\n",
    "display(psi_out)\n",
    "\n",
    "# we have shown previously that the operator \n",
    "# creation * annihilation returns the number of\n",
    "# photons or the energy level above the vacuum\n",
    "# state when we take its expectation on a state\n",
    "# therefore, we take both expectations and see\n",
    "# if they are equal\n",
    "display(expect(operator, psi_in))\n",
    "display(expect(operator, psi_out))\n",
    "\n",
    "# they are both giving the same energy value of 0\n",
    "# and they therefore both have 0 particles\n",
    "# this makes sense since a_in is the vacuum state,\n",
    "# which by definition has 0 particle and the shift\n",
    "# never created any particle so it should not change\n",
    "#the number of particles"
   ]
  },
  {
   "cell_type": "markdown",
   "metadata": {},
   "source": [
    "(b) Beam splitter: A beam splitter is a semi-reflective mirror that reflects some of the incident light and transmits the rest (this is the ideal case where no light is lost/absorbed by the mirror). In its simplest form, a beam splitter is just a small glass cube comprised of two triangular prisms glued together at an interface. The beam splitter can be mathematically described as follows:\n",
    "\\begin{align}\n",
    "\\hat{a}_{out}^{\\dagger} &= \\cos\\theta \\hat{a}_{in}^{\\dagger} + ie^{-i\\phi}\\sin\\theta\\hat{b}_{in}^{\\dagger} \\\\\n",
    "\\hat{b}_{out}^{\\dagger} &= ie^{i\\phi}\\sin\\theta \\hat{a}_{in}^{\\dagger} + \\cos\\theta\\hat{b}_{in}^{\\dagger}\n",
    "\\end{align}\n",
    "For our purposes, we can ignore the phase factors $e^{\\pm i \\phi}$ because we could account for it with phase shifters. So we will use the form:\n",
    "\\begin{align}\n",
    "\\hat{a}_{out}^{\\dagger} &= \\cos\\theta \\hat{a}_{in}^{\\dagger} + i\\sin\\theta\\hat{b}_{in}^{\\dagger} \\\\\n",
    "\\hat{b}_{out}^{\\dagger} &= i\\sin\\theta \\hat{a}_{in}^{\\dagger} + \\cos\\theta\\hat{b}_{in}^{\\dagger}\n",
    "\\end{align}\n",
    "for our creation and annihilation operators. Usually we will consider a 50/50 beamsplitter such that $\\theta = \\pi/4$. \n",
    "\n",
    "What is the state of a two-mode system if you have one photon incident on the beam splitter in mode 1 while mode 2 has no photons? Starting with a vacuum state, create the input and output states for this 50/50 beamsplitter. What does the output state tell us about the statistics of measuring photons at either of the outputs?"
   ]
  },
  {
   "cell_type": "code",
   "execution_count": 8,
   "metadata": {},
   "outputs": [
    {
     "data": {
      "text/latex": [
       "Quantum object: dims = [[2, 2], [1, 1]], shape = (4, 1), type = ket\\begin{equation*}\\left(\\begin{array}{*{11}c}0.0\\\\0.0\\\\1.0\\\\0.0\\\\\\end{array}\\right)\\end{equation*}"
      ],
      "text/plain": [
       "Quantum object: dims = [[2, 2], [1, 1]], shape = (4, 1), type = ket\n",
       "Qobj data =\n",
       "[[0.]\n",
       " [0.]\n",
       " [1.]\n",
       " [0.]]"
      ]
     },
     "metadata": {},
     "output_type": "display_data"
    },
    {
     "data": {
      "text/latex": [
       "Quantum object: dims = [[2, 2], [1, 1]], shape = (4, 1), type = ket\\begin{equation*}\\left(\\begin{array}{*{11}c}0.0\\\\0.0\\\\0.0\\\\-0.707j\\\\\\end{array}\\right)\\end{equation*}"
      ],
      "text/plain": [
       "Quantum object: dims = [[2, 2], [1, 1]], shape = (4, 1), type = ket\n",
       "Qobj data =\n",
       "[[0.+0.j        ]\n",
       " [0.+0.j        ]\n",
       " [0.+0.j        ]\n",
       " [0.-0.70710678j]]"
      ]
     },
     "metadata": {},
     "output_type": "display_data"
    }
   ],
   "source": [
    "# two modes mean two beamsplitters\n",
    "# we define, w.l.o.g. a_in to be the state with one\n",
    "# photon and b_in to be the state with no photon\n",
    "# we define b_in1 as the vacuum state and use the\n",
    "# creation operator to add 1 photon to a_in1\n",
    "b_in1 = basis(2,0)\n",
    "a_in1 = create(2) * b_in1\n",
    "\n",
    "# state of two-mode system with one photon incident\n",
    "# in mode 1 and 0 photon incident on mode 2\n",
    "# this is the state |10>\n",
    "state = tensor(a_in1, b_in1)\n",
    "display(state)\n",
    "n = 2\n",
    "\n",
    "# define theta as given\n",
    "theta = np.pi / 4 # 50/50 beamsplitter\n",
    "\n",
    "# operators\n",
    "adag_out = tensor(create(n), qeye(n)) # a anninhilates in one port and acts as the identity in the other\n",
    "bdag_out = tensor(qeye(n), create(n)) # b annihilates in the other port and acts as the identity in the first\n",
    "adag_in = tensor(create(n), qeye(n)) # unnecesary computationally, but helps keep the in/out distinction clearer\n",
    "bdag_in = tensor(qeye(n), create(n))\n",
    "\n",
    "# calculation\n",
    "# tensor product to obtain the final state\n",
    "# order of the tensor product is arbitrary\n",
    "psi_in = (adag_in * state) # initial state has 1 photon in the first port\n",
    "adag_in_mapping = np.cos(theta) * adag_out - 1j * np.sin(theta) * bdag_out # invert given equations\n",
    "psi_out = adag_in_mapping * state\n",
    "display(psi_out)"
   ]
  },
  {
   "cell_type": "markdown",
   "metadata": {},
   "source": [
    "# What does the output state tell us about the statistics of measuring photons at either output?\n",
    "We know that the output state represents wave amplitudes, and thus to get statistics we can square it. Since each entry is $\\frac{\\sqrt(2)}{2}$, when we square them we get 0.5. As a result, the output state tells us that we started with one photon in one position and no photon in the other, and in our result we will measure the photon at output a_out with 50% probability or at output b_out with 50% probability. Therefore, we went from a classical input to a quantum probabilistic output, even though we still only have one photon."
   ]
  },
  {
   "cell_type": "markdown",
   "metadata": {},
   "source": [
    "(c) Now, starting with a vacuum state, create the input and output states for a 50/50 beamsplitter assuming that we have one photon in each port. Show that both these states have the same energy and therefore the same number of particles. What is interesting about the final output state?\n",
    "\n",
    "*Hint:* Remember that when you are dealing with two inputs and two outputs, you will have to tensor states together using the tensor() command. Also remember that the energy is the sum of both outputs. "
   ]
  },
  {
   "cell_type": "code",
   "execution_count": 12,
   "metadata": {},
   "outputs": [
    {
     "data": {
      "text/latex": [
       "Quantum object: dims = [[3, 3], [1, 1]], shape = (9, 1), type = ket\\begin{equation*}\\left(\\begin{array}{*{11}c}0.0\\\\0.0\\\\0.0\\\\0.0\\\\1.0\\\\0.0\\\\0.0\\\\0.0\\\\0.0\\\\\\end{array}\\right)\\end{equation*}"
      ],
      "text/plain": [
       "Quantum object: dims = [[3, 3], [1, 1]], shape = (9, 1), type = ket\n",
       "Qobj data =\n",
       "[[0.]\n",
       " [0.]\n",
       " [0.]\n",
       " [0.]\n",
       " [1.]\n",
       " [0.]\n",
       " [0.]\n",
       " [0.]\n",
       " [0.]]"
      ]
     },
     "metadata": {},
     "output_type": "display_data"
    },
    {
     "data": {
      "text/latex": [
       "Quantum object: dims = [[3, 3], [1, 1]], shape = (9, 1), type = ket\\begin{equation*}\\left(\\begin{array}{*{11}c}0.0\\\\0.0\\\\-0.707j\\\\0.0\\\\0.0\\\\0.0\\\\-0.707j\\\\0.0\\\\0.0\\\\\\end{array}\\right)\\end{equation*}"
      ],
      "text/plain": [
       "Quantum object: dims = [[3, 3], [1, 1]], shape = (9, 1), type = ket\n",
       "Qobj data =\n",
       "[[0.+0.j        ]\n",
       " [0.+0.j        ]\n",
       " [0.-0.70710678j]\n",
       " [0.+0.j        ]\n",
       " [0.+0.j        ]\n",
       " [0.+0.j        ]\n",
       " [0.-0.70710678j]\n",
       " [0.+0.j        ]\n",
       " [0.+0.j        ]]"
      ]
     },
     "metadata": {},
     "output_type": "display_data"
    },
    {
     "data": {
      "text/plain": [
       "2.5"
      ]
     },
     "metadata": {},
     "output_type": "display_data"
    },
    {
     "data": {
      "text/plain": [
       "2.5000000000000004"
      ]
     },
     "metadata": {},
     "output_type": "display_data"
    }
   ],
   "source": [
    "# parameters & initial state\n",
    "n = 3 # need to be able to have 2 photons in a state\n",
    "theta = np.pi/4 # 50/50 beamsplitter\n",
    "state0 = basis(n, 0)\n",
    "psi0 = tensor(state0, state0)\n",
    "\n",
    "# operators of the system\n",
    "adag_out = tensor(create(n), qeye(n)) # a anninhilates in one port and acts as the identity in the other\n",
    "bdag_out = tensor(qeye(n), create(n)) # b annihilates in the other port and acts as the identity in the first\n",
    "adag_in = tensor(create(n), qeye(n)) # unnecesary computationally, but helps keep the in/out distinction clearer\n",
    "bdag_in = tensor(qeye(n), create(n))\n",
    "num_a = tensor(num(n), qeye(n))\n",
    "num_b = tensor(qeye(n), num(n))\n",
    "H0 = num_a + num_b + .5 # counts photons in both ports and adds quantum mechanical 1/2\n",
    "\n",
    "# calculating the input & output states\n",
    "psi_in = (adag_in * bdag_in * psi0) # initial state has 1 photon in each port\n",
    "adag_in_mapping = np.cos(theta) * adag_out - 1j * np.sin(theta) * bdag_out # invert given equations to map\n",
    "bdag_in_mapping = -1j * np.sin(theta) * adag_out + np.cos(theta) * bdag_out # same as above\n",
    "psi_out = ((adag_in_mapping)*(bdag_in_mapping)*psi0).unit() # make sure to normalize\n",
    "display(psi_in)\n",
    "display(psi_out)\n",
    "\n",
    "# display the input and output energies\n",
    "display(expect(H0, psi_in))\n",
    "display(expect(H0, psi_out))\n",
    "\n",
    "# they are the same"
   ]
  },
  {
   "cell_type": "markdown",
   "metadata": {},
   "source": [
    "# What is interesting about the final output state:\n",
    "When we take the tensor product, we see that we get that either both photons will be at the output a or both photons will be at the output b together, but that they will never be at different outputs. They got \"bunched together\". We can say, in some sense, that they are now correlated and that their positions are interdependent. This is a very interesting phenomenon, that from two independent photons, we manage to make \"one entity of two photons\" that behaves as one."
   ]
  },
  {
   "cell_type": "markdown",
   "metadata": {},
   "source": [
    "#### 4. Basic Circuit (*bonus problem*)"
   ]
  },
  {
   "cell_type": "markdown",
   "metadata": {},
   "source": [
    "![alt text][circuit]\n",
    "(a) Now that we know how to deal with phase shifters and beamsplitters, we can start to build basic circuits. Consider this circuit diagram with a $\\pi/4$ phase shifter on input port 1 and a 50/50 beamsplitter. Say that we send in 1 photon along the first port and 2 along the second. Find the final output state and interpret it statistically (that is, what would happen if you measured the particles). Are you more likely to find three particles in one port and zero in the other, or two particles in one port and one in the other? What is the expected number of photons in each output port? \n",
    "[circuit]: ./circuit.png"
   ]
  },
  {
   "cell_type": "code",
   "execution_count": 23,
   "metadata": {},
   "outputs": [
    {
     "data": {
      "text/latex": [
       "Quantum object: dims = [[3, 3], [1, 1]], shape = (9, 1), type = ket\\begin{equation*}\\left(\\begin{array}{*{11}c}0.0\\\\0.0\\\\0.0\\\\0.0\\\\0.0\\\\1.0\\\\0.0\\\\0.0\\\\0.0\\\\\\end{array}\\right)\\end{equation*}"
      ],
      "text/plain": [
       "Quantum object: dims = [[3, 3], [1, 1]], shape = (9, 1), type = ket\n",
       "Qobj data =\n",
       "[[ 0.]\n",
       " [ 0.]\n",
       " [ 0.]\n",
       " [ 0.]\n",
       " [ 0.]\n",
       " [ 1.]\n",
       " [ 0.]\n",
       " [ 0.]\n",
       " [ 0.]]"
      ]
     },
     "metadata": {},
     "output_type": "display_data"
    },
    {
     "data": {
      "text/latex": [
       "Quantum object: dims = [[3, 3], [1, 1]], shape = (9, 1), type = ket\\begin{equation*}\\left(\\begin{array}{*{11}c}0.0\\\\0.0\\\\0.0\\\\0.0\\\\(-0.354+0.354j)\\\\0.500\\\\0.0\\\\(-0.354-0.354j)\\\\0.500j\\\\\\end{array}\\right)\\end{equation*}"
      ],
      "text/plain": [
       "Quantum object: dims = [[3, 3], [1, 1]], shape = (9, 1), type = ket\n",
       "Qobj data =\n",
       "[[ 0.00000000+0.j        ]\n",
       " [ 0.00000000+0.j        ]\n",
       " [ 0.00000000+0.j        ]\n",
       " [ 0.00000000+0.j        ]\n",
       " [-0.35355339+0.35355339j]\n",
       " [ 0.50000000+0.j        ]\n",
       " [ 0.00000000+0.j        ]\n",
       " [-0.35355339-0.35355339j]\n",
       " [ 0.00000000+0.5j       ]]"
      ]
     },
     "metadata": {},
     "output_type": "display_data"
    }
   ],
   "source": [
    "# we consider a 50/50 beamsplitter such that theta = pi/4\n",
    "# we use the formula defined in 3 for the beamsplitter, but\n",
    "# we use the version with the phase shift factor, defining\n",
    "# input port 1 as a_in and input port 2 as b_in\n",
    "# therefore, we have pi/2 on input port 1 and pi/4 on input port 2\n",
    "\n",
    "# theta & phi\n",
    "theta3 = np.pi / 4 # beamsplitter shift\n",
    "phi = np.pi / 4 # pi/4 phaser shifter\n",
    "\n",
    "# generate input states\n",
    "a_in3 = basis(3,1) # one photon\n",
    "b_in3 = basis(3,2) # two photons\n",
    "\n",
    "# from the image, the phase shifter is only applied to\n",
    "# input port 1, so only to a_in (1 photon input)\n",
    "a_out3 = (np.cos(theta3) * a_in3) + (1j * np.sin(theta3) * b_in3)\n",
    "b_out3 = (1j * cmath.exp(1j * phi) * \n",
    "          np.sin(theta3) * a_in3) + (np.cos(theta3) * b_in3)\n",
    "\n",
    "# input state\n",
    "inpt_state3 = tensor(a_in3, b_in3)\n",
    "display(inpt_state3)\n",
    "\n",
    "# output state\n",
    "oupt_state3 = tensor(a_out3, b_out3)\n",
    "display(oupt_state3)"
   ]
  },
  {
   "cell_type": "markdown",
   "metadata": {},
   "source": [
    "# Interpretation of the output state:\n",
    "If we measure the state, we observe that the first photon seems to be in a definite state, while the second and third photons are in a superposition of states. As a result, we conclude that the first photon will always be in the same output port, but that the other two photons will be a one output port or the other with probability about 1/2 (since 0.5^2 = 0.25 and (+/-0.354 + 0.354i) = 0.2506...i. They will never be in the same port as their complex probabilities are opposite sign. If we define output port 1 to be the one where the first photon will always be, then the expected number of photons in output port 1 will be 2 and output port 2 will be 1."
   ]
  }
 ],
 "metadata": {
  "kernelspec": {
   "display_name": "Python 3",
   "language": "python",
   "name": "python3"
  },
  "language_info": {
   "codemirror_mode": {
    "name": "ipython",
    "version": 3
   },
   "file_extension": ".py",
   "mimetype": "text/x-python",
   "name": "python",
   "nbconvert_exporter": "python",
   "pygments_lexer": "ipython3",
   "version": "3.6.1"
  }
 },
 "nbformat": 4,
 "nbformat_minor": 2
}
