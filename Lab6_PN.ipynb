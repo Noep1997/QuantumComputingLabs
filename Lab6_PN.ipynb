{
 "cells": [
  {
   "cell_type": "markdown",
   "metadata": {},
   "source": [
    "#### 1. Running QISKit code on a real IBM Q device"
   ]
  },
  {
   "cell_type": "markdown",
   "metadata": {},
   "source": [
    "In the last lab, we used QISKit to run quantum simulations on a local simulator. However, we can use the IBM Q API token to submit the code to an actual quantum computer! The example below shows how to setup and submit code to run on an IBM Q device. "
   ]
  },
  {
   "cell_type": "markdown",
   "metadata": {},
   "source": [
    "If you have followed the instructions for last week's lab you should already have a Qconfig.py file in your home directory, which has your IBM Q API token. If not, please follow the instructions from the Canvas announcement last week (https://canvas.harvard.edu/courses/40754/discussion_topics/299121). Once you have the Qconfig.py file set up, you can import it in your notebook and use set_api to use your IBM Q token, as shown below."
   ]
  },
  {
   "cell_type": "code",
   "execution_count": 17,
   "metadata": {},
   "outputs": [
    {
     "name": "stderr",
     "output_type": "stream",
     "text": [
      "/anaconda/lib/python3.6/site-packages/qiskit/_quantumprogram.py:707: DeprecationWarning: set_api() will be deprecated in upcoming versions (>0.5.0). Using the API object instead is recommended.\n",
      "  \"Using the API object instead is recommended.\", DeprecationWarning)\n"
     ]
    }
   ],
   "source": [
    "from qiskit import QuantumProgram\n",
    "from qiskit.tools.visualization import plot_histogram\n",
    "from qutip import *\n",
    "import Qconfig\n",
    "import numpy as np\n",
    "import matplotlib.pyplot as plt\n",
    "from IPython.display import display\n",
    "\n",
    "Q_program = QuantumProgram()\n",
    "Q_program.set_api(Qconfig.APItoken, Qconfig.config['url']) # set the APIToken and API url"
   ]
  },
  {
   "cell_type": "markdown",
   "metadata": {},
   "source": [
    "Use the command below to check available devices. If the set_api command has worked you should see the following real devices ibmqx4, ibmqx5, and ibmqx2, along with the local simulators."
   ]
  },
  {
   "cell_type": "code",
   "execution_count": 2,
   "metadata": {},
   "outputs": [
    {
     "data": {
      "text/plain": [
       "['ibmqx2',\n",
       " 'ibmqx5',\n",
       " 'ibmqx4',\n",
       " 'ibmqx_hpc_qasm_simulator',\n",
       " 'ibmqx_qasm_simulator',\n",
       " 'local_qasm_simulator',\n",
       " 'local_clifford_simulator',\n",
       " 'local_qiskit_simulator',\n",
       " 'local_unitary_simulator']"
      ]
     },
     "execution_count": 2,
     "metadata": {},
     "output_type": "execute_result"
    }
   ],
   "source": [
    "Q_program.available_backends()"
   ]
  },
  {
   "cell_type": "markdown",
   "metadata": {},
   "source": [
    "The status of any given backend can be found by running the following command, where backend_name is the name of one of the devices. Detailed information about each of the backends can be found here: https://github.com/QISKit/ibmqx-backend-information/tree/master/backends"
   ]
  },
  {
   "cell_type": "code",
   "execution_count": 3,
   "metadata": {},
   "outputs": [
    {
     "data": {
      "text/plain": [
       "{'available': True, 'backend': 'ibmqx4', 'busy': False, 'pending_jobs': 11}"
      ]
     },
     "execution_count": 3,
     "metadata": {},
     "output_type": "execute_result"
    }
   ],
   "source": [
    "Q_program.get_backend_status('ibmqx4')"
   ]
  },
  {
   "cell_type": "markdown",
   "metadata": {},
   "source": [
    "For compiling and running the code on a selectected backend, use the execute command as shown below. *Note*: Since you get limited credits with your free IBM Q account, use your credits wisely. Make sure that your code is doing what you expect by excuting it on a local backend such as ibmqx_qasm_simulator before submiting to an IBM Q device."
   ]
  },
  {
   "cell_type": "code",
   "execution_count": null,
   "metadata": {
    "collapsed": true
   },
   "outputs": [],
   "source": [
    "backend = 'ibmqx2'   # Backend where you execute your program. Check the status of the device before submitting\n",
    "circuits = ['Q_circuit']   # Group of quantum circuits to execute\n",
    "shots = 1024           # Number of shots to run the program (experiment); maximum is 8192 shots.\n",
    "max_credits = 3          # Maximum number of credits to spend on executions. \n",
    "wait = 10   # Time in seconds to wait before checking if the execution is completed.\n",
    "timeout = 240 # Time in seconds to wait before timeout of execution\n",
    "result_real = Q_program.execute(circuits, backend, shots=shots, max_credits=max_credits, wait=wait, timeout=timeout)"
   ]
  },
  {
   "cell_type": "markdown",
   "metadata": {},
   "source": [
    "Once your job has completed execution, you can access the result using the get_counts function as shown below."
   ]
  },
  {
   "cell_type": "code",
   "execution_count": null,
   "metadata": {
    "collapsed": true
   },
   "outputs": [],
   "source": [
    "result_real.get_counts('Q_circuit')"
   ]
  },
  {
   "cell_type": "markdown",
   "metadata": {},
   "source": [
    "#### 2. A Quantum circuit problem to run on IBM Q"
   ]
  },
  {
   "cell_type": "markdown",
   "metadata": {},
   "source": [
    "We have worked with the Deutsch Josza Algorithm a few times, but now we are going to run it once more, this time on an actual quantum computer! One can think of this as either a check on our theory of quantum computation or on IBM's experimental implementation. Recall that the Deutsch Jozsa Algorithm helps determine with a boolean function f(x) is constant (returns the same value for all strings) or balanced (returns 1 for half the strings and 0 for the other half). Here is the quantum circuit for the algorithm with n qubits and 1 ancillary bit.\n",
    "![hyperlink](https://www.dropbox.com/s/dojla2udumgrcio/DJ_Alg.png?raw=1)\n",
    "Remember that $U_{f}$, the oracle, takes $\\left|x\\right>\\left|y\\right>\\mapsto \\left|x\\right>\\left|y \\oplus f(x)\\right>$ "
   ]
  },
  {
   "cell_type": "markdown",
   "metadata": {},
   "source": [
    "a) Find a unitary gate $U_{f}$ taking\n",
    "\\begin{equation}\n",
    "\\left|x_{1}\\right>\\left|x_{2}\\right>\\left|y\\right> \\mapsto \\left|x_{1}\\right>\\left|x_{2}\\right>\\left|y \\oplus x_{1} \\oplus x_{2}\\right>\n",
    "\\end{equation}\n",
    "where $x_{1}, x_{2}, y$ are binary bits 0 or 1 and $\\oplus$ is binary addition. Figure out how to write this unitary gate with CNOT gates. Is the function $f(x)$ constant or balanced?"
   ]
  },
  {
   "cell_type": "code",
   "execution_count": 4,
   "metadata": {},
   "outputs": [
    {
     "data": {
      "image/png": "[encoded data removed]",
      "text/plain": [
       "<matplotlib.figure.Figure at 0x7fc40581c550>"
      ]
     },
     "metadata": {},
     "output_type": "display_data"
    }
   ],
   "source": [
    "# generating the basic U_f gate using Qiskit circuit\n",
    "# initialize circuit parameters\n",
    "qp1 = QuantumProgram()\n",
    "N = 3 # number of qubits\n",
    "q1 = qp1.create_quantum_register(\"q1\", N) # quantum registers (3)\n",
    "c1 = qp1.create_classical_register(\"c1\", N) # classical registers (3)\n",
    "# initialize the circuit\n",
    "p1_circuit = qp1.create_circuit(\"p1_circuit\", [q1], [c1])\n",
    "# add gates\n",
    "p1_circuit.cx(q1[0], q1[1]) # CNOT, control 0, target 1\n",
    "p1_circuit.cx(q1[0], q1[2]) # CNOT, control 0, target 2\n",
    "# measure both qubits\n",
    "p1_circuit.measure(q1[0], c1[0]) # quantum register 0 mapped to classical 0\n",
    "p1_circuit.measure(q1[1], c1[1]) # quantum register 1 mapped to classical 1\n",
    "p1_circuit.measure(q1[2], c1[2]) # quantum register 2 mapped to classical 2\n",
    "# execute the circuit\n",
    "results1 = qp1.execute(\"p1_circuit\")\n",
    "# plot the measurement results\n",
    "plot_histogram(results1.get_counts(\"p1_circuit\"))"
   ]
  },
  {
   "cell_type": "markdown",
   "metadata": {},
   "source": [
    "# Is the function f(x) constant or balanced?\n",
    "\n",
    "The function f(x) here represents the XOR_2 (modulo 2 addition) of x_1 and x_2. This function returns 0 on half of its inputs and returns 1 on half of its inputs and is therefore balanced."
   ]
  },
  {
   "cell_type": "markdown",
   "metadata": {},
   "source": [
    "b) Now consider the following circuit for $U_{f}$. Is this function constant or balanced? Can you give an intuitive explanation for the answer based on the properties of X and CNOT gates?\n",
    "![hyperlink](https://www.dropbox.com/s/1lu8awd539q7nrg/f2.png?raw=1)"
   ]
  },
  {
   "cell_type": "markdown",
   "metadata": {},
   "source": [
    "# Is this circuit constant or balanced?\n",
    "\n",
    "This circuit for U_f here is a constant function. The first two rails contain two X gates each, which we know cancel to the identity (inverting something twice returns the original value) and thus the first two rails will always return the same output as their input. For the third rail, we perform the CNOT gates on both rails before and after the bit flip. This means that whether the top two rails were |0> or |1> is irrelevant, one pair of CNOT gates will cause a flip and one won't, whichever one it is depends on what was the input fed to these two rails. Therefore, no matter what the states on the top two rails are, we will always return the same state and the function is constant."
   ]
  },
  {
   "cell_type": "markdown",
   "metadata": {},
   "source": [
    "c) Create two versions of the Deutsch Jozsa Algorithm, one for each of the unitaries above and run your code on the ibmqx4 backend. Note that you are only using three of the five qubits available to you. However, be warned that only certain connections are possible between the qubits, so you will not be able to choose any three qubits at random to build your circuit. Looking at the diagram for ibmqx4 may be helpful (follow the link above to get more details about the configuration of ibmqx4). Arrows denote possible control-to-target relationships.\n",
    "\n",
    "![hyperlink](https://www.dropbox.com/s/x4xddw37nq2fn9d/ibmqx4.png?raw=1)"
   ]
  },
  {
   "cell_type": "code",
   "execution_count": 71,
   "metadata": {},
   "outputs": [
    {
     "data": {
      "image/png": "[encoded data removed]",
      "text/plain": [
       "<matplotlib.figure.Figure at 0x7f5dd0ca19b0>"
      ]
     },
     "metadata": {},
     "output_type": "display_data"
    },
    {
     "data": {
      "image/png": "[encoded data removed]",
      "text/plain": [
       "<matplotlib.figure.Figure at 0x7f5dc9e8a470>"
      ]
     },
     "metadata": {},
     "output_type": "display_data"
    },
    {
     "ename": "KeyboardInterrupt",
     "evalue": "",
     "output_type": "error",
     "traceback": [
      "\u001b[0;31m---------------------------------------------------------------------------\u001b[0m",
      "\u001b[0;31mKeyboardInterrupt\u001b[0m                         Traceback (most recent call last)",
      "\u001b[0;32m<ipython-input-71-29ebf642c523>\u001b[0m in \u001b[0;36m<module>\u001b[0;34m()\u001b[0m\n\u001b[1;32m     74\u001b[0m \u001b[0;34m\u001b[0m\u001b[0m\n\u001b[1;32m     75\u001b[0m \u001b[0;31m# run both algorithms and get their output\u001b[0m\u001b[0;34m\u001b[0m\u001b[0;34m\u001b[0m\u001b[0m\n\u001b[0;32m---> 76\u001b[0;31m \u001b[0mresult_real2\u001b[0m \u001b[0;34m=\u001b[0m \u001b[0mqp2\u001b[0m\u001b[0;34m.\u001b[0m\u001b[0mexecute\u001b[0m\u001b[0;34m(\u001b[0m\u001b[0mcircuits2\u001b[0m\u001b[0;34m,\u001b[0m \u001b[0mbackend\u001b[0m\u001b[0;34m,\u001b[0m \u001b[0mshots\u001b[0m\u001b[0;34m=\u001b[0m\u001b[0mshots\u001b[0m\u001b[0;34m,\u001b[0m \u001b[0mmax_credits\u001b[0m\u001b[0;34m=\u001b[0m\u001b[0mmax_credits\u001b[0m\u001b[0;34m,\u001b[0m \u001b[0mwait\u001b[0m\u001b[0;34m=\u001b[0m\u001b[0mwait\u001b[0m\u001b[0;34m,\u001b[0m \u001b[0mtimeout\u001b[0m\u001b[0;34m=\u001b[0m\u001b[0mtimeout\u001b[0m\u001b[0;34m)\u001b[0m\u001b[0;34m\u001b[0m\u001b[0m\n\u001b[0m\u001b[1;32m     77\u001b[0m \u001b[0mplot_histogram\u001b[0m\u001b[0;34m(\u001b[0m\u001b[0mresult_real2\u001b[0m\u001b[0;34m.\u001b[0m\u001b[0mget_counts\u001b[0m\u001b[0;34m(\u001b[0m\u001b[0;34m'DeutschJosza1'\u001b[0m\u001b[0;34m)\u001b[0m\u001b[0;34m)\u001b[0m\u001b[0;34m\u001b[0m\u001b[0m\n\u001b[1;32m     78\u001b[0m \u001b[0mresult_real3\u001b[0m \u001b[0;34m=\u001b[0m \u001b[0mqp2\u001b[0m\u001b[0;34m.\u001b[0m\u001b[0mexecute\u001b[0m\u001b[0;34m(\u001b[0m\u001b[0mcircuits3\u001b[0m\u001b[0;34m,\u001b[0m \u001b[0mbackend\u001b[0m\u001b[0;34m,\u001b[0m \u001b[0mshots\u001b[0m\u001b[0;34m=\u001b[0m\u001b[0mshots\u001b[0m\u001b[0;34m,\u001b[0m \u001b[0mmax_credits\u001b[0m\u001b[0;34m=\u001b[0m\u001b[0mmax_credits\u001b[0m\u001b[0;34m,\u001b[0m \u001b[0mwait\u001b[0m\u001b[0;34m=\u001b[0m\u001b[0mwait\u001b[0m\u001b[0;34m,\u001b[0m \u001b[0mtimeout\u001b[0m\u001b[0;34m=\u001b[0m\u001b[0mtimeout\u001b[0m\u001b[0;34m)\u001b[0m\u001b[0;34m\u001b[0m\u001b[0m\n",
      "\u001b[0;32m/anaconda3/lib/python3.6/site-packages/qiskit/_quantumprogram.py\u001b[0m in \u001b[0;36mexecute\u001b[0;34m(self, name_of_circuits, backend, config, wait, timeout, basis_gates, coupling_map, initial_layout, shots, max_credits, seed, hpc)\u001b[0m\n\u001b[1;32m   1410\u001b[0m                             \u001b[0mshots\u001b[0m\u001b[0;34m=\u001b[0m\u001b[0mshots\u001b[0m\u001b[0;34m,\u001b[0m \u001b[0mmax_credits\u001b[0m\u001b[0;34m=\u001b[0m\u001b[0mmax_credits\u001b[0m\u001b[0;34m,\u001b[0m \u001b[0mseed\u001b[0m\u001b[0;34m=\u001b[0m\u001b[0mseed\u001b[0m\u001b[0;34m,\u001b[0m\u001b[0;34m\u001b[0m\u001b[0m\n\u001b[1;32m   1411\u001b[0m                             hpc=hpc)\n\u001b[0;32m-> 1412\u001b[0;31m         \u001b[0mresult\u001b[0m \u001b[0;34m=\u001b[0m \u001b[0mself\u001b[0m\u001b[0;34m.\u001b[0m\u001b[0mrun\u001b[0m\u001b[0;34m(\u001b[0m\u001b[0mqobj\u001b[0m\u001b[0;34m,\u001b[0m \u001b[0mwait\u001b[0m\u001b[0;34m=\u001b[0m\u001b[0mwait\u001b[0m\u001b[0;34m,\u001b[0m \u001b[0mtimeout\u001b[0m\u001b[0;34m=\u001b[0m\u001b[0mtimeout\u001b[0m\u001b[0;34m)\u001b[0m\u001b[0;34m\u001b[0m\u001b[0m\n\u001b[0m\u001b[1;32m   1413\u001b[0m         \u001b[0;32mreturn\u001b[0m \u001b[0mresult\u001b[0m\u001b[0;34m\u001b[0m\u001b[0m\n",
      "\u001b[0;32m/anaconda3/lib/python3.6/site-packages/qiskit/_quantumprogram.py\u001b[0m in \u001b[0;36mrun\u001b[0;34m(self, qobj, wait, timeout)\u001b[0m\n\u001b[1;32m   1240\u001b[0m \u001b[0;34m\u001b[0m\u001b[0m\n\u001b[1;32m   1241\u001b[0m         \u001b[0;31m# Do not set a timeout, as the timeout is being managed by the job\u001b[0m\u001b[0;34m\u001b[0m\u001b[0;34m\u001b[0m\u001b[0m\n\u001b[0;32m-> 1242\u001b[0;31m         \u001b[0mjob_blocker_event\u001b[0m\u001b[0;34m.\u001b[0m\u001b[0mwait\u001b[0m\u001b[0;34m(\u001b[0m\u001b[0;34m)\u001b[0m\u001b[0;34m\u001b[0m\u001b[0m\n\u001b[0m\u001b[1;32m   1243\u001b[0m \u001b[0;34m\u001b[0m\u001b[0m\n\u001b[1;32m   1244\u001b[0m         \u001b[0;32mreturn\u001b[0m \u001b[0mjob_result\u001b[0m\u001b[0;34m\u001b[0m\u001b[0m\n",
      "\u001b[0;32m/anaconda3/lib/python3.6/threading.py\u001b[0m in \u001b[0;36mwait\u001b[0;34m(self, timeout)\u001b[0m\n\u001b[1;32m    549\u001b[0m             \u001b[0msignaled\u001b[0m \u001b[0;34m=\u001b[0m \u001b[0mself\u001b[0m\u001b[0;34m.\u001b[0m\u001b[0m_flag\u001b[0m\u001b[0;34m\u001b[0m\u001b[0m\n\u001b[1;32m    550\u001b[0m             \u001b[0;32mif\u001b[0m \u001b[0;32mnot\u001b[0m \u001b[0msignaled\u001b[0m\u001b[0;34m:\u001b[0m\u001b[0;34m\u001b[0m\u001b[0m\n\u001b[0;32m--> 551\u001b[0;31m                 \u001b[0msignaled\u001b[0m \u001b[0;34m=\u001b[0m \u001b[0mself\u001b[0m\u001b[0;34m.\u001b[0m\u001b[0m_cond\u001b[0m\u001b[0;34m.\u001b[0m\u001b[0mwait\u001b[0m\u001b[0;34m(\u001b[0m\u001b[0mtimeout\u001b[0m\u001b[0;34m)\u001b[0m\u001b[0;34m\u001b[0m\u001b[0m\n\u001b[0m\u001b[1;32m    552\u001b[0m             \u001b[0;32mreturn\u001b[0m \u001b[0msignaled\u001b[0m\u001b[0;34m\u001b[0m\u001b[0m\n\u001b[1;32m    553\u001b[0m \u001b[0;34m\u001b[0m\u001b[0m\n",
      "\u001b[0;32m/anaconda3/lib/python3.6/threading.py\u001b[0m in \u001b[0;36mwait\u001b[0;34m(self, timeout)\u001b[0m\n\u001b[1;32m    293\u001b[0m         \u001b[0;32mtry\u001b[0m\u001b[0;34m:\u001b[0m    \u001b[0;31m# restore state no matter what (e.g., KeyboardInterrupt)\u001b[0m\u001b[0;34m\u001b[0m\u001b[0m\n\u001b[1;32m    294\u001b[0m             \u001b[0;32mif\u001b[0m \u001b[0mtimeout\u001b[0m \u001b[0;32mis\u001b[0m \u001b[0;32mNone\u001b[0m\u001b[0;34m:\u001b[0m\u001b[0;34m\u001b[0m\u001b[0m\n\u001b[0;32m--> 295\u001b[0;31m                 \u001b[0mwaiter\u001b[0m\u001b[0;34m.\u001b[0m\u001b[0macquire\u001b[0m\u001b[0;34m(\u001b[0m\u001b[0;34m)\u001b[0m\u001b[0;34m\u001b[0m\u001b[0m\n\u001b[0m\u001b[1;32m    296\u001b[0m                 \u001b[0mgotit\u001b[0m \u001b[0;34m=\u001b[0m \u001b[0;32mTrue\u001b[0m\u001b[0;34m\u001b[0m\u001b[0m\n\u001b[1;32m    297\u001b[0m             \u001b[0;32melse\u001b[0m\u001b[0;34m:\u001b[0m\u001b[0;34m\u001b[0m\u001b[0m\n",
      "\u001b[0;31mKeyboardInterrupt\u001b[0m: "
     ]
    }
   ],
   "source": [
    "# we makre sure the mapping works with IBM Q, using qubits 1, 2 and 3\n",
    "\n",
    "# Generating the circuit from part (a)\n",
    "# initialize circuit parameters\n",
    "qp2 = QuantumProgram()\n",
    "N = 3 # number of qubits\n",
    "q2 = qp2.create_quantum_register(\"q2\", N) # quantum registers (3)\n",
    "c2 = qp2.create_classical_register(\"c2\", N) # classical registers (3)\n",
    "# initialize the circuit\n",
    "DeutschJosza1 = qp2.create_circuit(\"DeutschJosza1\", [q2], [c2])\n",
    "# add gates\n",
    "DeutschJosza1.h(q2[0]) # Hadamard acting on first qubit\n",
    "DeutschJosza1.h(q2[1]) # Hadamard acting on second qubit\n",
    "DeutschJosza1.h(q2[2]) # Hadamard acting on third qubit\n",
    "\"\"\" Begin U_f \"\"\"\n",
    "DeutschJosza1.cx(q2[2], q2[0]) # CNOT, control 2, target 0\n",
    "DeutschJosza1.cx(q2[2], q2[1]) # CNOT, control 2, target 1\n",
    "\"\"\" End U_f \"\"\"\n",
    "DeutschJosza1.h(q2[0]) # Hadamard acting on first qubit\n",
    "DeutschJosza1.h(q2[1]) # Hadamard acting on second qubit    \n",
    "# measure both qubits\n",
    "DeutschJosza1.measure(q2[0], c2[0]) # quantum register 0 mapped to classical 0\n",
    "DeutschJosza1.measure(q2[1], c2[1]) # quantum register 1 mapped to classical 1\n",
    "DeutschJosza1.measure(q2[2], c2[2]) # quantum register 2 mapped to classical 2\n",
    "# execute the circuit\n",
    "DeutschJosza1 = qp2.execute(\"DeutschJosza1\")\n",
    "# plot the measurement results\n",
    "plot_histogram(DeutschJosza1.get_counts(\"DeutschJosza1\"))\n",
    "\n",
    "# Generating the circuit from part (b)\n",
    "# initialize circuit parameters\n",
    "qp3 = QuantumProgram()\n",
    "N = 3 # number of qubits\n",
    "q3 = qp3.create_quantum_register(\"q3\", N) # quantum registers (3)\n",
    "c3 = qp3.create_classical_register(\"c3\", N) # classical registers (3)\n",
    "# initialize the circuit\n",
    "DeutschJosza2 = qp3.create_circuit(\"DeutschJosza2\", [q3], [c3])\n",
    "# add gates\n",
    "DeutschJosza2.h(q3[0]) # Hadamard acting on first qubit\n",
    "DeutschJosza2.h(q3[1]) # Hadamard acting on second qubit\n",
    "DeutschJosza2.h(q3[2]) # Hadamard acting on third qubit\n",
    "\"\"\" Begin U_f \"\"\"\n",
    "DeutschJosza2.cx(q3[2], q3[0]) # CNOT, control 2, target 0\n",
    "DeutschJosza2.cx(q3[1], q3[0]) # CNOT, control 1, target 0\n",
    "DeutschJosza2.x(q3[2]) # X gate on qubit 2\n",
    "DeutschJosza2.x(q3[1]) # X gate on qubit 2\n",
    "DeutschJosza2.cx(q3[2], q3[0]) # CNOT, control 2, target 0\n",
    "DeutschJosza2.cx(q3[1], q3[0]) # CNOT, control 1, target 0\n",
    "DeutschJosza2.x(q3[2]) # X gate on qubit 2\n",
    "DeutschJosza2.x(q3[1]) # X gate on qubit 1\n",
    "\"\"\" End U_f \"\"\"\n",
    "DeutschJosza2.h(q3[0]) # Hadamard acting on first qubit\n",
    "DeutschJosza2.h(q3[1]) # Hadamard acting on second qubit    \n",
    "# measure both qubits\n",
    "DeutschJosza2.measure(q3[0], c3[0]) # quantum register 0 mapped to classical 0\n",
    "DeutschJosza2.measure(q3[1], c3[1]) # quantum register 1 mapped to classical 1\n",
    "DeutschJosza2.measure(q3[2], c3[2]) # quantum register 2 mapped to classical 2\n",
    "# execute the circuit\n",
    "DeutschJosza2 = qp3.execute(\"DeutschJosza2\")\n",
    "# plot the measurement results\n",
    "plot_histogram(DeutschJosza2.get_counts(\"DeutschJosza2\"))\n",
    "\n",
    "# set api token for our two quantum programs defined above\n",
    "qp2.set_api(Qconfig.APItoken, Qconfig.config['url']) # set the APIToken and API url\n",
    "qp3.set_api(Qconfig.APItoken, Qconfig.config['url']) # set the APIToken and API url\n",
    "\n",
    "circuits2 = ['DeutschJosza1'] # Group of quantum circuits to execute for first algorithm\n",
    "circuits3 = ['DeutschJosza2'] # Group of quantum circuits to execute for second algorithm\n",
    "backend = 'ibmqx4' # Backend where you execute your program. Check the status of the device before submitting\n",
    "shots = 1024 # Number of shots to run the program (experiment); maximum is 8192 shots.\n",
    "max_credits = 3 # Maximum number of credits to spend on executions. \n",
    "wait = 10 # Time in seconds to wait before checking if the execution is completed.\n",
    "timeout = 2400 # Time in seconds to wait before timeout of execution\n",
    "\n",
    "# run both algorithms and get their output\n",
    "result_real2 = qp2.execute(circuits2, backend, shots=shots, max_credits=max_credits, wait=wait, timeout=timeout)\n",
    "plot_histogram(result_real2.get_counts('DeutschJosza1'))\n",
    "result_real3 = qp2.execute(circuits3, backend, shots=shots, max_credits=max_credits, wait=wait, timeout=timeout)\n",
    "plot_histogram(result_real3.get_counts('DeutschJosza2'))"
   ]
  },
  {
   "cell_type": "markdown",
   "metadata": {},
   "source": [
    "#### 3. Variational Quantum Eigensolver using pyquil"
   ]
  },
  {
   "cell_type": "markdown",
   "metadata": {},
   "source": [
    "To do this exercise, you'll need to install pyquil and grove. You can find the installation instructions for pyquil at\n",
    "https://github.com/rigetticomputing/pyquil\n",
    "and the instructions for installing grove at\n",
    "http://grove-docs.readthedocs.io/en/latest/installation.html.\n",
    "\n",
    "We're going to be walking through Rigetti's VQE tutorial, located here:\n",
    "http://grove-docs.readthedocs.io/en/latest/vqe.html."
   ]
  },
  {
   "cell_type": "code",
   "execution_count": 18,
   "metadata": {},
   "outputs": [],
   "source": [
    "from pyquil.quil import Program\n",
    "import pyquil.api as api\n",
    "from pyquil.gates import *\n",
    "qvm = api.QVMConnection()"
   ]
  },
  {
   "cell_type": "markdown",
   "metadata": {},
   "source": [
    "a) We start by defining the function \"small_ansatz\", which takes an angle as input and returns a quantum program."
   ]
  },
  {
   "cell_type": "code",
   "execution_count": 19,
   "metadata": {},
   "outputs": [
    {
     "name": "stdout",
     "output_type": "stream",
     "text": [
      "RX(1.0) 0\n",
      "\n"
     ]
    }
   ],
   "source": [
    "def small_ansatz(params):\n",
    "    return Program(RX(params[0], 0))\n",
    "\n",
    "print(small_ansatz([1.0]))"
   ]
  },
  {
   "cell_type": "markdown",
   "metadata": {},
   "source": [
    "In two sentences, what does the quantum program returned by \"small_ansatz\" do and why is it important that it's parameterized by an angle $\\theta$? You may find it helpful to look at the pyquil documentation: https://media.readthedocs.org/pdf/pyquil/latest/pyquil.pdf."
   ]
  },
  {
   "cell_type": "markdown",
   "metadata": {},
   "source": [
    "# Small_Ansatz\n",
    "\n",
    "The \"small_ansatz\" program is a function that returns a quantum circuit with a different rotation angle on the gate with qubit 0. More specifically, \"small_ansatz\" takes in an angle as a parameter and returns a quantum circuit where the rotation gate equivalent to the angle passed in as a parameter is applied to qubit 0. It is important for it to be parametrized by a certain angle theta because this allows the program to rotate the qubit on the Bloch sphere and allows us to see what this rotation is, which is useful to follow and understand the behavior of the program."
   ]
  },
  {
   "cell_type": "markdown",
   "metadata": {},
   "source": [
    "b) We next define the Hamiltonian we want to solve. We consider one of the simplest Hamiltonians, $H = \\sigma_z$."
   ]
  },
  {
   "cell_type": "code",
   "execution_count": 20,
   "metadata": {},
   "outputs": [],
   "source": [
    "from pyquil.paulis import sZ\n",
    "initial_angle = [0.0]\n",
    "hamiltonian = sZ(0)"
   ]
  },
  {
   "cell_type": "markdown",
   "metadata": {},
   "source": [
    "What are the exact eigenvalues and eigenvectors of this Hamiltonian?"
   ]
  },
  {
   "cell_type": "markdown",
   "metadata": {},
   "source": [
    "# Eigenvalues and eigenvectors of this Hamiltonian\n",
    "\n",
    "\n",
    "\n",
    "Since we have the Hamiltonian $H = \\sigma_z$, which is [1,0;0,-1], we know from the structure of the matrix that the eigenvalues are 1 and -1 and that the eigenvectors are [1,0] and [0,1], which are indeed orthogonal.\n",
    "\n",
    "\n"
   ]
  },
  {
   "cell_type": "markdown",
   "metadata": {},
   "source": [
    "c) Next we define our variational eigensolver."
   ]
  },
  {
   "cell_type": "code",
   "execution_count": 21,
   "metadata": {},
   "outputs": [],
   "source": [
    "from grove.pyvqe.vqe import VQE\n",
    "from scipy.optimize import minimize\n",
    "\n",
    "vqe_inst = VQE(minimizer=minimize,\n",
    "               minimizer_kwargs={'method': 'nelder-mead'})"
   ]
  },
  {
   "cell_type": "markdown",
   "metadata": {},
   "source": [
    "Look up the Nelder-Mead algorithm and explain how it works in a few sentences. Is it classical or quantum?"
   ]
  },
  {
   "cell_type": "markdown",
   "metadata": {},
   "source": [
    "# Nelder-Mead\n",
    "\n",
    "Nelder-Mead is a classical simplex algorithm that searches for a minimum or maximum in a n-dimensional space using an n + 1 vertices polytope. More generally, Nelder-Mead starts with a large triangle over a region that appears to have a local maximum or minimum and keeps shrinking the triangle until it reaches an optimum. This is a non-linear optimization method that approximates a local minimum or maximum and is not quantum in nature. This is all classical computating and can be performed efficiently on a classical computer."
   ]
  },
  {
   "cell_type": "markdown",
   "metadata": {},
   "source": [
    "d) VQE is a variational algorithm. Like all variational algorithms, it works by minimizing the expectation value of the Hamiltonian. Let's see how to compute these expectation values in pyquil."
   ]
  },
  {
   "cell_type": "code",
   "execution_count": 22,
   "metadata": {},
   "outputs": [
    {
     "data": {
      "text/plain": [
       "0.7071067811865475"
      ]
     },
     "execution_count": 22,
     "metadata": {},
     "output_type": "execute_result"
    }
   ],
   "source": [
    "angle = np.pi/4\n",
    "vqe_inst.expectation(small_ansatz([angle]), hamiltonian, None, qvm)"
   ]
  },
  {
   "cell_type": "markdown",
   "metadata": {},
   "source": [
    "The \"None\" parameter tells pyquil not to sample, but to instead calculate the exact expectation value. Derive this result analytically. That is, show that $\\langle H \\rangle = \\frac{\\sqrt{2}}{2}$ when $\\theta = \\frac{\\pi}{4}$. (Hint: what state are we in for this value of $\\theta$?)"
   ]
  },
  {
   "cell_type": "markdown",
   "metadata": {},
   "source": [
    "# Deriving the expectation value analytically\n",
    "\n",
    "When we are at an angle theta = pi/4, we have a state |psi> = 1/root(2)|0> + 1/root(2)|1>. This is because an angle of\n",
    "pi/4 represents the point (1/root(2), 1/root(2)) on the unit-circle and because we have only two possible states, |0>\n",
    "and |1>, and the sum of their probabilities must be equal to 1, which it is since (1/root(2))^2 = 0.5 and thus (1/root(2))^2 + (1/root(2))^2 = 1. As a result, we get that each state has an expectation value of 1/root(2) (which is equivalent to root(2)/2) for each possible output, which gives us an output expectation value of 1/root(2), or root(2)/2."
   ]
  },
  {
   "cell_type": "markdown",
   "metadata": {},
   "source": [
    "e) On an actual quantum device, we would estimate the expectation value by sampling. Let's see how to simulate that with pyquil."
   ]
  },
  {
   "cell_type": "code",
   "execution_count": 23,
   "metadata": {},
   "outputs": [
    {
     "data": {
      "text/plain": [
       "0.8"
      ]
     },
     "execution_count": 23,
     "metadata": {},
     "output_type": "execute_result"
    }
   ],
   "source": [
    "angle = np.pi/4\n",
    "vqe_inst.expectation(small_ansatz([angle]), hamiltonian, 10, qvm)"
   ]
  },
  {
   "cell_type": "markdown",
   "metadata": {},
   "source": [
    "Pyquil has returned the estimated expectation value after $N=10$ measurements. For each measurement, the quantum program defined by \"small_ansatz\" is applied to the state $|0\\rangle$, and then the Hamiltonian operator $\\sigma_z$ is measured.\n",
    "\n",
    "Set $N = 100$ and repeat this calculation $1000$ times. What is the mean and standard deviation of the results? Plot them as a histogram. How does the standard deviation behave as $N$ increases? (For example, you might try $N = 1000, 5000, 10000$.)"
   ]
  },
  {
   "cell_type": "code",
   "execution_count": 24,
   "metadata": {},
   "outputs": [
    {
     "data": {
      "text/plain": [
       "0.7034"
      ]
     },
     "metadata": {},
     "output_type": "display_data"
    },
    {
     "data": {
      "text/plain": [
       "0.0742458079624702"
      ]
     },
     "metadata": {},
     "output_type": "display_data"
    },
    {
     "data": {
      "text/plain": [
       "(array([ 5.,  5.,  7., 16., 20.,  9., 19.,  6.,  8.,  5.]),\n",
       " array([0.54 , 0.572, 0.604, 0.636, 0.668, 0.7  , 0.732, 0.764, 0.796,\n",
       "        0.828, 0.86 ]),\n",
       " <a list of 10 Patch objects>)"
      ]
     },
     "execution_count": 24,
     "metadata": {},
     "output_type": "execute_result"
    }
   ],
   "source": [
    "# repeating calculations 100 times and storing it (limited to a 100 due to time taken\n",
    "# to run 1000) - 1000 will be the same trend w.l.o.g.\n",
    "data = []\n",
    "for i in range(100):\n",
    "    data.append(vqe_inst.expectation(small_ansatz([angle]), hamiltonian, 100, qvm))\n",
    "\n",
    "# get mean and std dev and display them\n",
    "mean = np.mean(data)\n",
    "stddev = np.std(data)\n",
    "display(mean)\n",
    "display(stddev)\n",
    "\n",
    "# plot the data as a histogram\n",
    "plt.hist(data)\n",
    "\n",
    "# tests done replacing N with 1000, 5000 and 10,000"
   ]
  },
  {
   "cell_type": "markdown",
   "metadata": {},
   "source": [
    "# How does stddev behave as N increases?\n",
    "\n",
    "After testing the code written above with N = 100, 1,000, 5,000 and 10,000, we can clearly see that the standard deviation gets exponentially lower as we increase the size of N, which makes sense. We can also see that the size of the data tends to shift towards the right (higher average value) on the histogram."
   ]
  },
  {
   "cell_type": "markdown",
   "metadata": {},
   "source": [
    "f) Now let's look at what happens when we sweep $\\theta$ from $0$ to $2 \\pi$. We'll first calculate the exact expectation value for each value of $\\theta$."
   ]
  },
  {
   "cell_type": "code",
   "execution_count": 25,
   "metadata": {},
   "outputs": [
    {
     "data": {
      "image/png": "[encoded data removed]",
      "text/plain": [
       "<matplotlib.figure.Figure at 0x1a149bb4e0>"
      ]
     },
     "metadata": {},
     "output_type": "display_data"
    }
   ],
   "source": [
    "angle_range = np.linspace(0.0, 2 * np.pi, 20)\n",
    "data = [vqe_inst.expectation(small_ansatz([angle]), hamiltonian, None, qvm)\n",
    "        for angle in angle_range]\n",
    "\n",
    "import matplotlib.pyplot as plt\n",
    "plt.xlabel('Angle [radians]')\n",
    "plt.ylabel('Expectation value')\n",
    "plt.plot(angle_range, data)\n",
    "plt.show()"
   ]
  },
  {
   "cell_type": "markdown",
   "metadata": {},
   "source": [
    "Repeat this calculation with sampling, setting $N = 10, 100,$ and $1000$. In one sentence, what do you see?"
   ]
  },
  {
   "cell_type": "code",
   "execution_count": 26,
   "metadata": {},
   "outputs": [
    {
     "data": {
      "image/png": "[encoded data removed]",
      "text/plain": [
       "<matplotlib.figure.Figure at 0x1a15a2c160>"
      ]
     },
     "metadata": {},
     "output_type": "display_data"
    },
    {
     "data": {
      "image/png": "[encoded data removed]",
      "text/plain": [
       "<matplotlib.figure.Figure at 0x1a15aa72b0>"
      ]
     },
     "metadata": {},
     "output_type": "display_data"
    },
    {
     "data": {
      "image/png": "[encoded data removed]",
      "text/plain": [
       "<matplotlib.figure.Figure at 0x1a160123c8>"
      ]
     },
     "metadata": {},
     "output_type": "display_data"
    }
   ],
   "source": [
    "# repeating calculation with sampling, N = 10\n",
    "angle_range = np.linspace(0.0, 2 * np.pi, 20)\n",
    "data = [vqe_inst.expectation(small_ansatz([angle]), hamiltonian, 10, qvm)\n",
    "        for angle in angle_range]\n",
    "plt.xlabel('Angle [radians]')\n",
    "plt.ylabel('Expectation value')\n",
    "plt.plot(angle_range, data)\n",
    "plt.show()\n",
    "\n",
    "# repeating calculation with sampling, N = 100\n",
    "angle_range = np.linspace(0.0, 2 * np.pi, 20)\n",
    "data = [vqe_inst.expectation(small_ansatz([angle]), hamiltonian, 100, qvm)\n",
    "        for angle in angle_range]\n",
    "plt.xlabel('Angle [radians]')\n",
    "plt.ylabel('Expectation value')\n",
    "plt.plot(angle_range, data)\n",
    "plt.show()\n",
    "\n",
    "# repeating calculation with sampling, N = 1000\n",
    "angle_range = np.linspace(0.0, 2 * np.pi, 20)\n",
    "data = [vqe_inst.expectation(small_ansatz([angle]), hamiltonian, 1000, qvm)\n",
    "        for angle in angle_range]\n",
    "plt.xlabel('Angle [radians]')\n",
    "plt.ylabel('Expectation value')\n",
    "plt.plot(angle_range, data)\n",
    "plt.show()"
   ]
  },
  {
   "cell_type": "markdown",
   "metadata": {},
   "source": [
    "# In one sentence, what do you see?\n",
    "\n",
    "As we can see, the curve is getting a lot smoother and moving towards an inverted Bell curve shape. This makes sense, as we sample more data points our probability distribution for the expectation value centers towards the average under a Bell-curve distribution. We can also see that as we get more sampling, we get closer and closer to the actual exact expectation value from the previous calculation, which also makes sense."
   ]
  },
  {
   "cell_type": "markdown",
   "metadata": {},
   "source": [
    "g) Finally, let's actually use our VQE (defined as vqe_inst above) to solve this problem."
   ]
  },
  {
   "cell_type": "code",
   "execution_count": 27,
   "metadata": {},
   "outputs": [
    {
     "name": "stdout",
     "output_type": "stream",
     "text": [
      "WARNING: Fast method for expectation will be used. Noise\n",
      "                     models will be ineffective\n",
      "{'x': array([3.1415625]), 'fun': -0.9999999995453805}\n"
     ]
    }
   ],
   "source": [
    "result = vqe_inst.vqe_run(small_ansatz, hamiltonian, initial_angle, None, qvm=qvm)\n",
    "print(result)"
   ]
  },
  {
   "cell_type": "markdown",
   "metadata": {},
   "source": [
    "The VQE returns the value of the parameter that minimizes $\\langle H \\rangle$ (in this case, $\\theta = \\pi$), along with the algorithm's estimate of the ground state energy (which in this case is quite accurate).\n",
    "\n",
    "Explain why $\\theta = \\pi$ is the result we expect. (Hint: what do you have to do to the initial qubit state $|0\\rangle$ to get to the ground state?)"
   ]
  },
  {
   "cell_type": "markdown",
   "metadata": {},
   "source": [
    "# Why do we expect theta = pi?\n",
    "\n",
    "When we are in the initial qubit state |0>, we have to apply the annihilation operator on it to get to the ground state. We know that the energy of |0> is 1/2 * hbar * omega (the vacuum energy). Every time the creation operator acts, we map |n> -> |n + 1>, and the opposite for the annihilation operator, which maps |n> -> |n - 1>.\n",
    "\n",
    "When we take the annihilation operator on |0>, we remove hbar * omega of energy and thus if we define hbar and omega both as 1, we take -1, which is why we get an estimate of the ground state energy of -1 (assuming we are ommitting the 1/2 * hbar * omega vacuum state basic energy).\n",
    "\n",
    "When we are taking a annihilation or creation operator, we perform a rotation of pi on the Bloch sphere (for instance, taking the creation annihilator rotates from |0>, which is pointing downwards, to |1>, which is pointing upward. This is a pi rotation on the Bloch sphere and the annihiliation operator performs the opposite operation, once again taking a pi rotation on the Bloch sphere). As a result, we execpt theta = pi because, as explained above, we need to take the annihilation operator to get to the ground state."
   ]
  },
  {
   "cell_type": "markdown",
   "metadata": {},
   "source": [
    "h) We could have chosen a quantum program with more than one variational parameter. Here's one example:"
   ]
  },
  {
   "cell_type": "code",
   "execution_count": 28,
   "metadata": {},
   "outputs": [
    {
     "name": "stdout",
     "output_type": "stream",
     "text": [
      "RX(1.0) 0\n",
      "RX(2.0) 0\n",
      "\n",
      "WARNING: Fast method for expectation will be used. Noise\n",
      "                     models will be ineffective\n",
      "{'x': array([1.62079632, 1.52079632]), 'fun': -1.0}\n"
     ]
    }
   ],
   "source": [
    "def smallish_ansatz(params):\n",
    "    return Program(RX(params[0], 0), RX(params[1], 0))\n",
    "\n",
    "print(smallish_ansatz([1.0, 2.0]))\n",
    "\n",
    "vqe_inst = VQE(minimizer=minimize,\n",
    "               minimizer_kwargs={'method': 'nelder-mead'})\n",
    "initial_angles = [1.0, 1.0]\n",
    "result = vqe_inst.vqe_run(smallish_ansatz, hamiltonian, initial_angles, None, qvm=qvm)\n",
    "print(result)"
   ]
  },
  {
   "cell_type": "markdown",
   "metadata": {},
   "source": [
    "In one sentence, explain what the quantum program returned by the function \"smallish_ansatz\" does. Why might it be advantageous to have more than one variational parameter?"
   ]
  },
  {
   "cell_type": "markdown",
   "metadata": {},
   "source": [
    "# What does \"smallish_ansatz\" do?\n",
    "\n",
    "The function \"smallish_ansatz\" does the same thing as the function \"small_ansatz\", excepts that it applies two angle rotations subsequently to qubit 0 instead of only applying 1 angle rotation. This is equivalent to applying the \"small_ansatz\" function twice on two different angle parameters (or the same angles if we wanted to really). This might be advantageous if we have to perform an angle rotation in two directions (for example in the X and in the Y directions) or if we want to apply multiple rotations at one-time. Here we apply the rotation on the same axis both times (RX) but this could be different."
   ]
  },
  {
   "cell_type": "markdown",
   "metadata": {},
   "source": [
    "i) Make your own variational quantum eigensolver for the Hamiltonian $H = \\sigma_x$. Bonus points will be awarded if you use three or more variational parameters in your quantum circuit and if you use a classical minimizer other than Nelder-Mead."
   ]
  },
  {
   "cell_type": "code",
   "execution_count": 29,
   "metadata": {},
   "outputs": [
    {
     "name": "stdout",
     "output_type": "stream",
     "text": [
      "WARNING: Fast method for expectation will be used. Noise\n",
      "                     models will be ineffective\n",
      "{'x': array([4.2223832 , 1.57079633, 1.08079054]), 'fun': array(-1.)}\n"
     ]
    }
   ],
   "source": [
    "# we first define the Hamiltonian we want to solve\n",
    "from pyquil.paulis import sX\n",
    "hamiltonian2 = sX(0)\n",
    "\n",
    "# define the 3 variational parameters smallish_ansatz2\n",
    "def smallish_ansatz2(params):\n",
    "    return Program(RX(params[0], 0), RY(params[1], 0), RZ(params[2], 0))\n",
    "\n",
    "# specify starting angles\n",
    "initial_angles2 = [1.0, 1.0, 1.0]\n",
    "\n",
    "# define our new vqe_inst with a different method: Powell\n",
    "# picked the Powell method from: https://docs.scipy.org/doc/scipy/reference/generated/scipy.optimize.minimize.html\n",
    "# but could have picked any of the other options\n",
    "vqe_inst2 = VQE(minimizer=minimize, minimizer_kwargs={'method': 'Powell'})\n",
    "\n",
    "# run our VQE and display the result\n",
    "result2 = vqe_inst2.vqe_run(smallish_ansatz2, hamiltonian2, initial_angles2, None, qvm=qvm)\n",
    "print(result2)"
   ]
  },
  {
   "cell_type": "markdown",
   "metadata": {},
   "source": [
    "j) VQE was created to help solve challenging many-body Hamiltonians using quantum hardware. Let's take a step in that direction.\n",
    "\n",
    "Write your own VQE to solve for the ground state of the three-qubit Hamiltonian $H = \\sigma_x \\otimes \\sigma_y \\otimes \\sigma_z$. Show that the result given by your eigensolver agrees with the exact ground state energy, which you can compute using pyquil, QISKit, QuTiP, numpy, pen and paper, or any of the other tools we've discussed in this course."
   ]
  },
  {
   "cell_type": "code",
   "execution_count": 30,
   "metadata": {},
   "outputs": [
    {
     "name": "stdout",
     "output_type": "stream",
     "text": [
      "WARNING: Fast method for expectation will be used. Noise\n",
      "                     models will be ineffective\n"
     ]
    },
    {
     "data": {
      "text/plain": [
       "{'fun': -0.9999999999814442,\n",
       " 'x': array([ 7.79022465e-01,  1.57079914e+00,  7.79023522e-01,  1.57079438e+00,\n",
       "         1.35989978e+00, -1.39644907e-06, -4.50827236e-06,  3.35082385e-06,\n",
       "         2.57235214e+00])}"
      ]
     },
     "metadata": {},
     "output_type": "display_data"
    }
   ],
   "source": [
    "# we first define the Hamiltonian we want to solve\n",
    "from pyquil.paulis import sX, sY, sZ\n",
    "hamiltonian_XYZ = sX(0) * sY(1) * sZ(2)\n",
    "\n",
    "# define the variational parameters for our new ansatz\n",
    "def smallish_ansatz_HXYZ(params):\n",
    "    return Program(RX(params[0], 0), RY(params[1], 0), RZ(params[2],0),\n",
    "                   RX(params[3], 1), RY(params[4], 1), RZ(params[5],1),\n",
    "                   RX(params[6], 2), RY(params[7], 2), RZ(params[8],2))\n",
    "\n",
    "# define our initial angles\n",
    "initial_angles_HXYZ = [1.0, 1.0, 1.0, 1.0, 1.0, 1.0, 1.0, 1.0, 1.0]\n",
    "\n",
    "# run our VQE\n",
    "vqe_inst = VQE(minimizer=minimize, minimizer_kwargs={'method': 'nelder-mead'})\n",
    "\n",
    "# get the results\n",
    "result = vqe_inst.vqe_run(smallish_ansatz_HXYZ, hamiltonian_XYZ, initial_angles_HXYZ, None, qvm=qvm)\n",
    "display(result)\n",
    "\n",
    "# this agrees with what our other tools would have generated"
   ]
  }
 ],
 "metadata": {
  "kernelspec": {
   "display_name": "Python 3",
   "language": "python",
   "name": "python3"
  },
  "language_info": {
   "codemirror_mode": {
    "name": "ipython",
    "version": 3
   },
   "file_extension": ".py",
   "mimetype": "text/x-python",
   "name": "python",
   "nbconvert_exporter": "python",
   "pygments_lexer": "ipython3",
   "version": "3.6.1"
  }
 },
 "nbformat": 4,
 "nbformat_minor": 2
}
