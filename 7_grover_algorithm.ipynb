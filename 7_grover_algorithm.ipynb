{
 "cells": [
  {
   "cell_type": "markdown",
   "metadata": {},
   "source": [
    "## Problem 1: Grover's algorithm"
   ]
  },
  {
   "cell_type": "code",
   "execution_count": 1,
   "metadata": {},
   "outputs": [],
   "source": [
    "from qiskit import QuantumProgram\n",
    "from qiskit.tools.visualization import plot_histogram\n",
    "from qutip import *\n",
    "import Qconfig\n",
    "import numpy as np\n",
    "import matplotlib.pyplot as plt"
   ]
  },
  {
   "cell_type": "markdown",
   "metadata": {},
   "source": [
    "In this exercise, you'll design and execute the two-qubit Grover's algorithm."
   ]
  },
  {
   "cell_type": "markdown",
   "metadata": {},
   "source": [
    "(a) Suppose the \"marked\" two-qubit state we're searching for is $|\\psi\\rangle=|10\\rangle$. Construct a numpy array representing the oracle matrix $U_f$, which acts on basis states according to\n",
    "\\begin{equation}\n",
    "U_f |x\\rangle = (-1)^{f(x)} |x\\rangle,\n",
    "\\end{equation}\n",
    "where $f(x) = 0$ for unmarked qubit states and $f(x)=1$ for the marked qubit state."
   ]
  },
  {
   "cell_type": "code",
   "execution_count": 2,
   "metadata": {},
   "outputs": [
    {
     "data": {
      "text/plain": [
       "array([[ 1,  0,  0,  0],\n",
       "       [ 0,  1,  0,  0],\n",
       "       [ 0,  0, -1,  0],\n",
       "       [ 0,  0,  0,  1]])"
      ]
     },
     "metadata": {},
     "output_type": "display_data"
    },
    {
     "data": {
      "text/plain": [
       "array([[1],\n",
       "       [0],\n",
       "       [0],\n",
       "       [0]])"
      ]
     },
     "metadata": {},
     "output_type": "display_data"
    },
    {
     "data": {
      "text/plain": [
       "array([[0],\n",
       "       [1],\n",
       "       [0],\n",
       "       [0]])"
      ]
     },
     "metadata": {},
     "output_type": "display_data"
    },
    {
     "data": {
      "text/plain": [
       "array([[ 0],\n",
       "       [ 0],\n",
       "       [-1],\n",
       "       [ 0]])"
      ]
     },
     "metadata": {},
     "output_type": "display_data"
    },
    {
     "data": {
      "text/plain": [
       "array([[0],\n",
       "       [0],\n",
       "       [0],\n",
       "       [1]])"
      ]
     },
     "metadata": {},
     "output_type": "display_data"
    }
   ],
   "source": [
    "# generate all 2-qubits states for testing\n",
    "state1 = np.array([[1],[0],[0],[0]]) # |00>\n",
    "state2 = np.array([[0],[1],[0],[0]]) # |01>\n",
    "state3 = np.array([[0],[0],[1],[0]]) # |10>\n",
    "state4 = np.array([[0],[0],[0],[1]]) # |00>\n",
    "\n",
    "# generate and display U_f, acting only on the marked state |10>\n",
    "# making -1 for marked qubit and 1 otherwise\n",
    "U_f = np.array([[1,0,0,0],[0,1,0,0],[0,0,-1,0],[0,0,0,1]])\n",
    "display(U_f)\n",
    "\n",
    "# testing to make sure it works\n",
    "display(U_f @ state1) # |00> -> |00>\n",
    "display(U_f @ state2) # |01> -> |01>\n",
    "display(U_f @ state3) # |10> -> -|10>\n",
    "display(U_f @ state4) # |11> -> |11>\n",
    "# yes, intended behavior"
   ]
  },
  {
   "cell_type": "markdown",
   "metadata": {},
   "source": [
    "(b) Construct a matrix in numpy that applies the Hadamard transform to each qubit, $H^{\\otimes n}$."
   ]
  },
  {
   "cell_type": "code",
   "execution_count": 3,
   "metadata": {},
   "outputs": [
    {
     "data": {
      "text/plain": [
       "array([[ 0.5,  0.5,  0.5,  0.5],\n",
       "       [ 0.5, -0.5,  0.5, -0.5],\n",
       "       [ 0.5,  0.5, -0.5, -0.5],\n",
       "       [ 0.5, -0.5, -0.5,  0.5]])"
      ]
     },
     "metadata": {},
     "output_type": "display_data"
    }
   ],
   "source": [
    "# define Hamadard matrix in numpy\n",
    "H = 1/np.sqrt(2)*np.array([[1,1],[1,-1]])\n",
    "\n",
    "# tensored Hadamard for 2 qubits. Could tensor it\n",
    "# more to apply to arbitrarily many qubits\n",
    "H2 = np.kron(H, H)\n",
    "display(H2)"
   ]
  },
  {
   "cell_type": "markdown",
   "metadata": {},
   "source": [
    "(c) Construct a conditional phase shift gate $U_{\\text{ps}}$ in numpy, with every computational basis state except $|0\\rangle$ receiving a phase shift of $-1$:\n",
    "\\begin{equation}\n",
    "U_{\\text{ps}} |x\\rangle = -(-1)^{\\delta_{x,0}} |x\\rangle\n",
    "\\end{equation}"
   ]
  },
  {
   "cell_type": "code",
   "execution_count": 4,
   "metadata": {},
   "outputs": [
    {
     "data": {
      "text/plain": [
       "array([[1],\n",
       "       [0]])"
      ]
     },
     "metadata": {},
     "output_type": "display_data"
    },
    {
     "data": {
      "text/plain": [
       "array([[0],\n",
       "       [1]])"
      ]
     },
     "metadata": {},
     "output_type": "display_data"
    },
    {
     "data": {
      "text/plain": [
       "array([[ 1,  0],\n",
       "       [ 0, -1]])"
      ]
     },
     "metadata": {},
     "output_type": "display_data"
    },
    {
     "data": {
      "text/plain": [
       "array([[1],\n",
       "       [0]])"
      ]
     },
     "metadata": {},
     "output_type": "display_data"
    },
    {
     "data": {
      "text/plain": [
       "array([[ 0],\n",
       "       [-1]])"
      ]
     },
     "metadata": {},
     "output_type": "display_data"
    },
    {
     "data": {
      "text/plain": [
       "array([[ 1,  0,  0,  0],\n",
       "       [ 0, -1,  0,  0],\n",
       "       [ 0,  0, -1,  0],\n",
       "       [ 0,  0,  0, -1]])"
      ]
     },
     "metadata": {},
     "output_type": "display_data"
    },
    {
     "data": {
      "text/plain": [
       "array([[1],\n",
       "       [0],\n",
       "       [0],\n",
       "       [0]])"
      ]
     },
     "metadata": {},
     "output_type": "display_data"
    },
    {
     "data": {
      "text/plain": [
       "array([[ 0],\n",
       "       [-1],\n",
       "       [ 0],\n",
       "       [ 0]])"
      ]
     },
     "metadata": {},
     "output_type": "display_data"
    },
    {
     "data": {
      "text/plain": [
       "array([[ 0],\n",
       "       [ 0],\n",
       "       [-1],\n",
       "       [ 0]])"
      ]
     },
     "metadata": {},
     "output_type": "display_data"
    },
    {
     "data": {
      "text/plain": [
       "array([[ 0],\n",
       "       [ 0],\n",
       "       [ 0],\n",
       "       [-1]])"
      ]
     },
     "metadata": {},
     "output_type": "display_data"
    }
   ],
   "source": [
    "### Originally did everything with 1-qubit because it was asking for |0> ###\n",
    "# genreate single-qubit states for testing\n",
    "state5 = np.array([[1],[0]])\n",
    "state6 = np.array([[0],[1]])\n",
    "display(state5)\n",
    "display(state6)\n",
    "\n",
    "# generate U_ps that maps |0> to |0> and |1> to -|1> and display it\n",
    "U_ps = np.array([[1,0],[0,-1]])\n",
    "display(U_ps)\n",
    "\n",
    "# testing to make sure it works\n",
    "display(U_ps @ state5) # |0> -> |0>\n",
    "display(U_ps @ state6) # |1> -> -|1>\n",
    "# yes, intended behavior\n",
    "\n",
    "###############################################################################\n",
    "\n",
    "### Redoing it all with 2-qubits in order for the tensoring to fit later on ###\n",
    "### Assuming |00> --> no change and everything else phase shift of -1\n",
    "U_ps2 = np.array([[1,0,0,0],[0,-1,0,0],[0,0,-1,0],[0,0,0,-1]])\n",
    "display(U_ps2)\n",
    "\n",
    "# testing to make sure it works\n",
    "display(U_ps2 @ state1) # |00> -> |00>\n",
    "display(U_ps2 @ state2) # |01> -> -|01>\n",
    "display(U_ps2 @ state3) # |10> -> -|10>\n",
    "display(U_ps2 @ state4) # |11> -> -|11>\n",
    "# yes, intended behavior"
   ]
  },
  {
   "cell_type": "markdown",
   "metadata": {},
   "source": [
    "(d) Construct the unitary operator $2 |0\\rangle \\langle 0| - 1$ in numpy and show that it is equal to the gate $U_{\\text{ps}}$ that you constructed in part (c)."
   ]
  },
  {
   "cell_type": "code",
   "execution_count": 5,
   "metadata": {},
   "outputs": [
    {
     "data": {
      "text/plain": [
       "array([[1],\n",
       "       [0]])"
      ]
     },
     "metadata": {},
     "output_type": "display_data"
    },
    {
     "data": {
      "text/plain": [
       "array([[1, 0]])"
      ]
     },
     "metadata": {},
     "output_type": "display_data"
    },
    {
     "data": {
      "text/plain": [
       "array([[ 1.,  0.],\n",
       "       [ 0., -1.]])"
      ]
     },
     "metadata": {},
     "output_type": "display_data"
    },
    {
     "data": {
      "text/plain": [
       "array([[ True,  True],\n",
       "       [ True,  True]], dtype=bool)"
      ]
     },
     "metadata": {},
     "output_type": "display_data"
    },
    {
     "data": {
      "text/plain": [
       "array([[ 1.,  0.,  0.,  0.],\n",
       "       [ 0., -1.,  0.,  0.],\n",
       "       [ 0.,  0., -1.,  0.],\n",
       "       [ 0.,  0.,  0., -1.]])"
      ]
     },
     "metadata": {},
     "output_type": "display_data"
    },
    {
     "data": {
      "text/plain": [
       "array([[ True,  True,  True,  True],\n",
       "       [ True,  True,  True,  True],\n",
       "       [ True,  True,  True,  True],\n",
       "       [ True,  True,  True,  True]], dtype=bool)"
      ]
     },
     "metadata": {},
     "output_type": "display_data"
    }
   ],
   "source": [
    "### Originally did everything with 1-qubit because it was asking for |0> ###\n",
    "# define |0> and <0| in numpy and display them\n",
    "zero_ket = np.array([[1],[0]])\n",
    "zero_bra = np.transpose(zero_ket)\n",
    "display(zero_ket)\n",
    "display(zero_bra)\n",
    "\n",
    "# generate the asked unitary operator and display it\n",
    "unitary_op = 2 * np.kron(zero_ket, zero_bra) - np.identity(2)\n",
    "display(unitary_op)\n",
    "\n",
    "# verify that it equals U_ps from part (c)\n",
    "display(unitary_op == U_ps) # yes, they are equal\n",
    "\n",
    "###############################################################################\n",
    "\n",
    "### Redoing it all with 2-qubits in order for the tensoring to fit later on ###\n",
    "zero_ket2 = np.array([[1],[0],[0],[0]])\n",
    "zero_bra2 = np.transpose(zero_ket2)\n",
    "\n",
    "# generate the asked unitary operator and display it\n",
    "unitary_op2 = 2 * np.kron(zero_ket2, zero_bra2) - np.identity(4)\n",
    "display(unitary_op2)\n",
    "\n",
    "# verify that it equals U_ps from part (c)\n",
    "display(unitary_op2 == U_ps2) # yes, they are equal"
   ]
  },
  {
   "cell_type": "markdown",
   "metadata": {},
   "source": [
    "(e) Construct the \"reflection\" gate $U_s = 2 |s\\rangle\\langle s|-1$ as a numpy array, where $|s\\rangle$ is an equally weighted superposition of basis states\n",
    "\\begin{equation}\n",
    "|s\\rangle = \\frac{1}{\\sqrt{N}} \\sum_{x = 0}^{N-1} |x\\rangle.\n",
    "\\end{equation}"
   ]
  },
  {
   "cell_type": "code",
   "execution_count": 6,
   "metadata": {},
   "outputs": [
    {
     "data": {
      "text/plain": [
       "array([[ 0.70710678],\n",
       "       [ 0.70710678]])"
      ]
     },
     "metadata": {},
     "output_type": "display_data"
    },
    {
     "data": {
      "text/plain": [
       "array([[-0.,  1.],\n",
       "       [ 1., -0.]])"
      ]
     },
     "metadata": {},
     "output_type": "display_data"
    },
    {
     "data": {
      "text/plain": [
       "array([[ 0.5],\n",
       "       [ 0.5],\n",
       "       [ 0.5],\n",
       "       [ 0.5]])"
      ]
     },
     "metadata": {},
     "output_type": "display_data"
    },
    {
     "data": {
      "text/plain": [
       "array([[-0.5,  0.5,  0.5,  0.5],\n",
       "       [ 0.5, -0.5,  0.5,  0.5],\n",
       "       [ 0.5,  0.5, -0.5,  0.5],\n",
       "       [ 0.5,  0.5,  0.5, -0.5]])"
      ]
     },
     "metadata": {},
     "output_type": "display_data"
    }
   ],
   "source": [
    "### Originally did everything with 1-qubit because it was asking for |0> ###\n",
    "# single-qubit basis, so only two possible basis states\n",
    "N = 2\n",
    "# construct one_ket, we have zero_ket from before\n",
    "one_ket = np.array([[0],[1]])\n",
    "\n",
    "# construct |s> as a superposition of |0> and |1> and display\n",
    "s_ket = 1/np.sqrt(N) * (zero_ket + one_ket)\n",
    "display(s_ket)\n",
    "\n",
    "# construct U_s as specified\n",
    "U_s = np.round(2 * np.kron(s_ket, np.transpose(s_ket)) - np.identity(2)) # rounding to get rid of floating point error\n",
    "display(U_s)\n",
    "\n",
    "###############################################################################\n",
    "\n",
    "### Redoing it all with 2-qubits in order for the tensoring to fit later on ###\n",
    "# 2-qubits so 4 possible basis states\n",
    "N2 = 4\n",
    "# construct basis states\n",
    "zero_zero_ket = np.array([[1],[0],[0],[0]])\n",
    "zero_one_ket = np.array([[0],[1],[0],[0]])\n",
    "one_zero_ket = np.array([[0],[0],[1],[0]])\n",
    "one_one_ket = np.array([[0],[0],[0],[1]])\n",
    "\n",
    "# construct |s> as a superposition of all 4 basis states and display\n",
    "s_ket2 = 1/np.sqrt(N2) * (zero_zero_ket + zero_one_ket + one_zero_ket + one_one_ket)\n",
    "display(s_ket2)\n",
    "\n",
    "# construct U_s as specified\n",
    "U_s2 = 2 * np.kron(s_ket2, np.transpose(s_ket2)) - np.identity(4)\n",
    "display(U_s2)"
   ]
  },
  {
   "cell_type": "markdown",
   "metadata": {},
   "source": [
    "(f) Using the numpy arrays you constructed above, show that $H^{\\otimes n} U_\\text{ps} H^{\\otimes n} = U_s.$"
   ]
  },
  {
   "cell_type": "code",
   "execution_count": 7,
   "metadata": {},
   "outputs": [
    {
     "data": {
      "text/plain": [
       "array([[-0.,  1.],\n",
       "       [ 1., -0.]])"
      ]
     },
     "metadata": {},
     "output_type": "display_data"
    },
    {
     "data": {
      "text/plain": [
       "array([[ True,  True],\n",
       "       [ True,  True]], dtype=bool)"
      ]
     },
     "metadata": {},
     "output_type": "display_data"
    },
    {
     "data": {
      "text/plain": [
       "array([[-0.5,  0.5,  0.5,  0.5],\n",
       "       [ 0.5, -0.5,  0.5,  0.5],\n",
       "       [ 0.5,  0.5, -0.5,  0.5],\n",
       "       [ 0.5,  0.5,  0.5, -0.5]])"
      ]
     },
     "metadata": {},
     "output_type": "display_data"
    },
    {
     "data": {
      "text/plain": [
       "array([[ True,  True,  True,  True],\n",
       "       [ True,  True,  True,  True],\n",
       "       [ True,  True,  True,  True],\n",
       "       [ True,  True,  True,  True]], dtype=bool)"
      ]
     },
     "execution_count": 7,
     "metadata": {},
     "output_type": "execute_result"
    }
   ],
   "source": [
    "### Originally did everything with 1-qubit because it was asking for |0> ###\n",
    "# construct H Ups H as specified and display it\n",
    "HUpsH = np.round(H @ U_ps @ H) # rounding to get rid of floating point e^-17 error\n",
    "display(HUpsH)\n",
    "\n",
    "# verify that it equals U_s\n",
    "display(U_s == HUpsH) # yes, they are equal\n",
    "\n",
    "###############################################################################\n",
    "\n",
    "### Redoing it all with 2-qubits in order for the tensoring to fit later on ###\n",
    "# construct H Ups H as specified and display it\n",
    "HUpH2 = np.round(H2 @ U_ps2 @ H2, 1) # rounding at 1 decimal place to get rid of floating point errors\n",
    "display(HUpH2)\n",
    "\n",
    "# verify that it equals U_s\n",
    "HUpH2 == U_s2 # yes, they are equal"
   ]
  },
  {
   "cell_type": "markdown",
   "metadata": {},
   "source": [
    "(g) In two sentences or fewer, give a geometric interpretation of the gate sequence $U_s U_f$. You may find [this](https://quantumexperience.ng.bluemix.net/proxy/tutorial/full-user-guide/004-Quantum_Algorithms/070-Grover's_Algorithm.html) reference from IBM interesting and helpful."
   ]
  },
  {
   "cell_type": "markdown",
   "metadata": {},
   "source": [
    "# Geometric Interpretation of the gate sequence U_s U_f\n",
    "\n",
    "The sequence of gate U_s U_f performs two rotations that perform a significant amplitude amplification to the marked state and allows Grover to identify it by measurement collapsing with near certainty. More precisely, U_f performs a rotation about the |w> axis, which makes the amplitude of the marked qubit negative by the same angle it was above |w>, and then U_s performs a rotation of the marked qubit vector about the |s> axis which, now that the marked qubit has been rotated, performs an amplitude amplification because the angle difference between the market state vector and |s> was increased from applying U_f."
   ]
  },
  {
   "cell_type": "markdown",
   "metadata": {},
   "source": [
    "(h) Find the state of the computer after $1$, $2$, $5$, and $10$ Grover iterations. That is, for $t$ Grover iterations, find the state\n",
    "\\begin{equation}\n",
    "|\\psi_t\\rangle= (U_s U_f)^t H^{\\otimes n}|\\psi_0\\rangle,\n",
    "\\end{equation}\n",
    "where $|\\psi_0\\rangle$ is the initial qubit state $|00\\rangle$."
   ]
  },
  {
   "cell_type": "code",
   "execution_count": 8,
   "metadata": {},
   "outputs": [
    {
     "data": {
      "text/plain": [
       "array([[1],\n",
       "       [0],\n",
       "       [0],\n",
       "       [0]])"
      ]
     },
     "metadata": {},
     "output_type": "display_data"
    },
    {
     "data": {
      "text/plain": [
       "array([[ 0.],\n",
       "       [ 0.],\n",
       "       [ 1.],\n",
       "       [ 0.]])"
      ]
     },
     "metadata": {},
     "output_type": "display_data"
    },
    {
     "data": {
      "text/plain": [
       "array([[-0.5],\n",
       "       [-0.5],\n",
       "       [ 0.5],\n",
       "       [-0.5]])"
      ]
     },
     "metadata": {},
     "output_type": "display_data"
    },
    {
     "data": {
      "text/plain": [
       "array([[ 0.5],\n",
       "       [ 0.5],\n",
       "       [-0.5],\n",
       "       [ 0.5]])"
      ]
     },
     "metadata": {},
     "output_type": "display_data"
    },
    {
     "data": {
      "text/plain": [
       "array([[ 0.],\n",
       "       [ 0.],\n",
       "       [-1.],\n",
       "       [ 0.]])"
      ]
     },
     "metadata": {},
     "output_type": "display_data"
    }
   ],
   "source": [
    "# initial state --> |00>\n",
    "initial_state = np.array([[1],[0],[0],[0]])\n",
    "display(initial_state)\n",
    "\n",
    "# general Grover function as implemented above \n",
    "def Grover(t):\n",
    "    return np.linalg.matrix_power(U_s2 @ U_f, t) @ H2 @ initial_state\n",
    "\n",
    "# 1 Grover iteration\n",
    "psi_1 = Grover(1)\n",
    "display(psi_1)\n",
    "\n",
    "# 2 Grover iterations\n",
    "psi_2 = Grover(2)\n",
    "display(psi_2)\n",
    "\n",
    "# 5 Grover iterations\n",
    "psi_5 = Grover(5)\n",
    "display(psi_5)\n",
    "\n",
    "# 10 Grover iterations\n",
    "psi_10 = Grover(10)\n",
    "display(psi_10)"
   ]
  },
  {
   "cell_type": "markdown",
   "metadata": {},
   "source": [
    "(i) Plot the fidelity $|\\langle \\psi | \\psi_t \\rangle|^2$ versus iteration number $t$ for $t$ ranging between $0$ and $100$. What do you see?"
   ]
  },
  {
   "cell_type": "code",
   "execution_count": 18,
   "metadata": {},
   "outputs": [
    {
     "data": {
      "text/plain": [
       "array([[0],\n",
       "       [0],\n",
       "       [1],\n",
       "       [0]])"
      ]
     },
     "metadata": {},
     "output_type": "display_data"
    },
    {
     "data": {
      "image/png": "[encoded data removed]",
      "text/plain": [
       "<matplotlib.figure.Figure at 0x7fecd6a24e10>"
      ]
     },
     "metadata": {},
     "output_type": "display_data"
    }
   ],
   "source": [
    "# we are looking for the marked state |10>, but we start our Grover\n",
    "# on state |00>. Therefore, to find it and its fidelity, we will find\n",
    "# the overlap of the two states\n",
    "\n",
    "# the state we are looking for\n",
    "marked_state = np.array([[0],[0],[1],[0]])\n",
    "display(marked_state)\n",
    "\n",
    "# general fidelity function that construct the state psi_t with\n",
    "# Grover function defined above and then finds its fidelity for \n",
    "# the marked state\n",
    "def fidelity(t):\n",
    "    overlap = np.transpose(marked_state) @ Grover(t)\n",
    "    return ((overlap @ np.transpose(overlap)) ** 2)[0][0]\n",
    "\n",
    "# storing fidelities in array for easier plotting\n",
    "fidelities = []\n",
    "# range 101 to get 0 and 100 inclusive\n",
    "for t in range(101):\n",
    "    fidelities.append(fidelity(t))\n",
    "\n",
    "# plotting\n",
    "plt.plot(range(101), fidelities)\n",
    "plt.show()"
   ]
  },
  {
   "cell_type": "markdown",
   "metadata": {},
   "source": [
    "# What do you see?\n",
    "\n",
    "As we can see, the fidelity is oscillating between 0 and 1 as the number of oscillations increases. It is 0 for t = 0 and 1 for t = 100. This makes sense, since as we can see on the Grover iterations above, when we run multiple iterations of Grover, we get a cyclical pattern, so it makes sense that the fidelity also follows a cyclical pattern."
   ]
  },
  {
   "cell_type": "markdown",
   "metadata": {},
   "source": [
    "(j) Design this circuit in QISKit for $t=2.$ If you use the reference above, you need to explicitly confirm that the sequence of H, S, X, and CNOT gates that you use matches the gates $U_s$ and $U_f$ constructed above."
   ]
  },
  {
   "cell_type": "code",
   "execution_count": 40,
   "metadata": {},
   "outputs": [
    {
     "data": {
      "image/png": "[encoded data removed]",
      "text/plain": [
       "<matplotlib.figure.Figure at 0x7fecd658c9e8>"
      ]
     },
     "metadata": {},
     "output_type": "display_data"
    }
   ],
   "source": [
    "# Running Grover with the circuit found at the reference above\n",
    "# define program\n",
    "qp = QuantumProgram()\n",
    "n = 2  # number of qubits\n",
    "q = qp.create_quantum_register(\"q\", n) # quantum register\n",
    "c = qp.create_classical_register(\"c\", n) # classical register\n",
    "# create circuit\n",
    "Grover = qp.create_circuit(\"Grover\", [q], [c])\n",
    "# add gates\n",
    "Grover.h(q[1])\n",
    "Grover.h(q[0])\n",
    "Grover.s(q[1])\n",
    "Grover.h(q[0])\n",
    "Grover.cx(q[1], q[0])\n",
    "Grover.h(q[0])\n",
    "Grover.s(q[1])\n",
    "Grover.h(q[1])\n",
    "Grover.h(q[0])\n",
    "Grover.x(q[1])\n",
    "Grover.x(q[0])\n",
    "Grover.h(q[0])\n",
    "Grover.cx(q[1], q[0])\n",
    "Grover.h(q[0])\n",
    "Grover.x(q[1])\n",
    "Grover.x(q[0])\n",
    "Grover.h(q[1])\n",
    "Grover.h(q[0])\n",
    "# measure the qubits\n",
    "Grover.measure(q[0], c[0])\n",
    "Grover.measure(q[1], c[1])\n",
    "# execute the circuit\n",
    "results = qp.execute(\"Grover\")\n",
    "# plot the measurement results\n",
    "plot_histogram(results.get_counts(\"Grover\"))\n",
    "# yes it worked -- found 01 with probability 1"
   ]
  },
  {
   "cell_type": "code",
   "execution_count": 71,
   "metadata": {},
   "outputs": [],
   "source": [
    "# coding U_f and U_s2 in QuTip to show explicity that they are the same\n",
    "\n",
    "# U_f\n",
    "N = 2 # we have 2-qubits\n",
    "Uf_circuit = QubitCircuit(N)\n",
    "Uf_circuit.add_gate(\"PHASE\", 0, arg_value=np.pi/2) # S gate\n",
    "Uf_circuit.add_gate(\"SNOT\", 1) # H gate\n",
    "Uf_circuit.add_gate(\"CNOT\", 1, 0) # CNOT gate\n",
    "Uf_circuit.add_gate(\"SNOT\", 1) # H gate\n",
    "Uf_circuit.add_gate(\"PHASE\", 0, arg_value=np.pi/2) # S gate\n",
    "# find product of gates\n",
    "Uf_gate = gate_sequence_product(Uf_circuit.propagators()) # equivalent to U_f\n",
    "\n",
    "##########\n",
    "\n",
    "# U_s\n",
    "N = 2 # we have 2-qubits\n",
    "Us_circuit = QubitCircuit(N)\n",
    "Us_circuit.add_gate(\"SNOT\", 1) # H gate\n",
    "Us_circuit.add_gate(\"SNOT\", 0) # H gate\n",
    "Us_circuit.add_gate(\"NOT\", 1) # X gate\n",
    "Us_circuit.add_gate(\"NOT\", 0) # X gate\n",
    "Us_circuit.add_gate(\"SNOT\", 1) # H gate\n",
    "Us_circuit.add_gate(\"CNOT\", 1, 0) # CNOT gate\n",
    "Us_circuit.add_gate(\"SNOT\", 1) # H gate\n",
    "Us_circuit.add_gate(\"NOT\", 1) # X gate\n",
    "Us_circuit.add_gate(\"NOT\", 0) # X gate\n",
    "\n",
    "# find product of gates\n",
    "Us_gate = gate_sequence_product(Uf_circuit.propagators()) # equivalent to U_s"
   ]
  },
  {
   "cell_type": "markdown",
   "metadata": {},
   "source": [
    "(k) (Bonus +10) Implement the circuit from part (j) in IBM Q."
   ]
  },
  {
   "cell_type": "code",
   "execution_count": 33,
   "metadata": {},
   "outputs": [],
   "source": [
    "# define the program above for 5 qubits so it works on IBM Q\n",
    "qp1 = QuantumProgram()\n",
    "n = 5  # number of qubits (need 5 here so it matches ibm Q even tho we only use 2)\n",
    "q1 = qp1.create_quantum_register(\"q1\", n) # quantum register\n",
    "c1 = qp1.create_classical_register(\"c1\", n) # classical register\n",
    "# initialize circuit\n",
    "Grover2 = qp1.create_circuit(\"Grover2\", [q1], [c1])\n",
    "# add gates\n",
    "Grover2.h(q1[1])\n",
    "Grover2.h(q1[2])\n",
    "Grover2.s(q1[1])\n",
    "Grover2.h(q1[2])\n",
    "Grover2.cx(q1[1], q1[2])\n",
    "Grover2.h(q1[2])\n",
    "Grover2.s(q1[1])\n",
    "Grover2.h(q1[1])\n",
    "Grover2.h(q1[2])\n",
    "Grover2.x(q1[1])\n",
    "Grover2.x(q1[2])\n",
    "Grover2.h(q1[2])\n",
    "Grover2.cx(q1[1], q1[2])\n",
    "Grover2.h(q1[2])\n",
    "Grover2.x(q1[1])\n",
    "Grover2.x(q1[2])\n",
    "Grover2.h(q1[1])\n",
    "Grover2.h(q1[2])\n",
    "# measure the qubits\n",
    "Grover2.measure(q1[1], c1[1])\n",
    "Grover2.measure(q1[2], c1[2])\n",
    "# execute the circuit\n",
    "results = qp1.execute(\"Grover2\")"
   ]
  },
  {
   "cell_type": "code",
   "execution_count": 38,
   "metadata": {},
   "outputs": [
    {
     "data": {
      "text/plain": [
       "{'available': True, 'backend': 'ibmqx4', 'busy': False, 'pending_jobs': 4}"
      ]
     },
     "execution_count": 38,
     "metadata": {},
     "output_type": "execute_result"
    }
   ],
   "source": [
    "# using my API key and checking for availability of IBM Q\n",
    "Q_program = QuantumProgram()\n",
    "Q_program.set_api(Qconfig.APItoken, Qconfig.config['url']) # set the APIToken and API url\n",
    "Q_program.get_backend_status('ibmqx4')"
   ]
  },
  {
   "cell_type": "code",
   "execution_count": 39,
   "metadata": {},
   "outputs": [
    {
     "name": "stderr",
     "output_type": "stream",
     "text": [
      "WARNING:IBMQuantumExperience.IBMQuantumExperience:Got a 400 code response to https://quantumexperience.ng.bluemix.net/api/Jobs/6ebe44e4d29d0f6938dfe4a45e5df5c9?access_token=SPcn3n7bU1mBswGcDZ55O9Aud6AwplfNquEmP35PNtTEIV9utu40GhGMh5vpDEBw: {\"error\":{\"status\":400,\"message\":\"Generic error\",\"code\":\"GENERIC_ERROR\"}}\n"
     ]
    },
    {
     "data": {
      "image/png": "[encoded data removed]",
      "text/plain": [
       "<matplotlib.figure.Figure at 0x7fecd631ed68>"
      ]
     },
     "metadata": {},
     "output_type": "display_data"
    }
   ],
   "source": [
    "### IBM Q information from past lab to run on IBM Q ###\n",
    "backend = 'ibmqx4'   # Backend where you execute your program. Check the status of the device before submitting\n",
    "circuits = ['Grover2']   # Group of quantum circuits to execute\n",
    "shots = 1024           # Number of shots to run the program (experiment); maximum is 8192 shots.\n",
    "max_credits = 3          # Maximum number of credits to spend on executions. \n",
    "wait = 10   # Time in seconds to wait before checking if the execution is completed.\n",
    "timeout = 2*1200 # Time in seconds to wait before timeout of execution\n",
    "result_real = qp1.execute(circuits, backend, shots=shots, max_credits=max_credits, wait=wait, timeout=timeout)\n",
    "\n",
    "# run on IBM Q and get results\n",
    "plot_histogram(result_real.get_counts(\"Grover2\"))\n",
    "# it worked, even tho it shows 0001, it is just because we mapped the qubits differently on IBM Q"
   ]
  },
  {
   "cell_type": "markdown",
   "metadata": {
    "collapsed": true
   },
   "source": [
    "# Problem 2: The Quantum Fourier Transform"
   ]
  },
  {
   "cell_type": "markdown",
   "metadata": {},
   "source": [
    "In this problem, we will look at the Quantum Fourier Transform (QFT), which is an important example of a sub-module that is useful in many different quantum circuits/algorithms, Therefore, it is worth taking a slightly closer look at. The circuit for the module is:\n",
    "![hyperlink](https://www.dropbox.com/s/5ykg74pdoli0sv0/QFT.png?raw=1)\n",
    "Where $R_{k}$ is the matrix with z-basis representation:\n",
    "\n",
    "\\begin{equation}\n",
    "\\begin{pmatrix} 1 & 0 \\\\ 0 & e^{2\\pi i/2^{k}} \\end{pmatrix}\n",
    "\\end{equation}\n",
    "\n",
    "and the gates at the end are swap gates reversing the order of the qubits."
   ]
  },
  {
   "cell_type": "markdown",
   "metadata": {},
   "source": [
    "a) What is the QFT for n = 1 qubits? What is the circuit diagram for n = 3 qubits using gates that we have used before (i.e. $H, T, S$, etc.)? Code up this circuit in the language of your choice."
   ]
  },
  {
   "cell_type": "markdown",
   "metadata": {},
   "source": [
    "# What is the QFT for n = 1 qubits?\n",
    "\n",
    "It is a single Hadamard gate (the j_n rail on the diagram above, but without the targets for R gates and the swap gate because there is only one qubit)."
   ]
  },
  {
   "cell_type": "markdown",
   "metadata": {},
   "source": [
    "# What is the circuit diagram for n = 3 qubits using H, T, S gates?\n",
    "\n",
    "This circuit is comprised of 3 rails. On the topmost rail, we have a Hadamard gate, then a Controlled-S gate with control qubit rail 2 and a Controlled-T gate with control qubit rail 1. On the second rail (middle), we have a Hadamard gate, then a Controlled-S gate with control qubit rail 1, and on the third rail we have a Hadamard gate (after all the controls). We then use a Swap gate for rails 1 and 3 to swap these two qubits and leave the middle rail intouched."
   ]
  },
  {
   "cell_type": "code",
   "execution_count": 56,
   "metadata": {},
   "outputs": [
    {
     "data": {
      "text/latex": [
       "Quantum object: dims = [[2, 2, 2], [2, 2, 2]], shape = (8, 8), type = oper, isherm = False\\begin{equation*}\\left(\\begin{array}{*{11}c}0.354 & 0.354 & 0.354 & 0.354 & 0.354 & 0.354 & 0.354 & 0.354\\\\0.354 & 0.354 & 0.354 & 0.354 & -0.354 & -0.354 & -0.354 & -0.354\\\\0.354 & 0.354 & -0.354 & -0.354 & 0.354j & 0.354j & -0.354j & -0.354j\\\\0.354 & 0.354 & -0.354 & -0.354 & -0.354j & -0.354j & 0.354j & 0.354j\\\\0.354 & -0.354 & 0.354j & -0.354j & (0.250+0.250j) & (-0.250-0.250j) & (-0.250+0.250j) & (0.250-0.250j)\\\\0.354 & -0.354 & 0.354j & -0.354j & (-0.250-0.250j) & (0.250+0.250j) & (0.250-0.250j) & (-0.250+0.250j)\\\\0.354 & -0.354 & -0.354j & 0.354j & (-0.250+0.250j) & (0.250-0.250j) & (0.250+0.250j) & (-0.250-0.250j)\\\\0.354 & -0.354 & -0.354j & 0.354j & (0.250-0.250j) & (-0.250+0.250j) & (-0.250-0.250j) & (0.250+0.250j)\\\\\\end{array}\\right)\\end{equation*}"
      ],
      "text/plain": [
       "Quantum object: dims = [[2, 2, 2], [2, 2, 2]], shape = (8, 8), type = oper, isherm = False\n",
       "Qobj data =\n",
       "[[ 0.35355339+0.j          0.35355339+0.j          0.35355339+0.j\n",
       "   0.35355339+0.j          0.35355339+0.j          0.35355339+0.j\n",
       "   0.35355339+0.j          0.35355339+0.j        ]\n",
       " [ 0.35355339+0.j          0.35355339+0.j          0.35355339+0.j\n",
       "   0.35355339+0.j         -0.35355339+0.j         -0.35355339+0.j\n",
       "  -0.35355339+0.j         -0.35355339+0.j        ]\n",
       " [ 0.35355339+0.j          0.35355339+0.j         -0.35355339+0.j\n",
       "  -0.35355339+0.j          0.00000000+0.35355339j  0.00000000+0.35355339j\n",
       "   0.00000000-0.35355339j  0.00000000-0.35355339j]\n",
       " [ 0.35355339+0.j          0.35355339+0.j         -0.35355339+0.j\n",
       "  -0.35355339+0.j          0.00000000-0.35355339j  0.00000000-0.35355339j\n",
       "   0.00000000+0.35355339j  0.00000000+0.35355339j]\n",
       " [ 0.35355339+0.j         -0.35355339+0.j          0.00000000+0.35355339j\n",
       "   0.00000000-0.35355339j  0.25000000+0.25j       -0.25000000-0.25j\n",
       "  -0.25000000+0.25j        0.25000000-0.25j      ]\n",
       " [ 0.35355339+0.j         -0.35355339+0.j          0.00000000+0.35355339j\n",
       "   0.00000000-0.35355339j -0.25000000-0.25j        0.25000000+0.25j\n",
       "   0.25000000-0.25j       -0.25000000+0.25j      ]\n",
       " [ 0.35355339+0.j         -0.35355339+0.j          0.00000000-0.35355339j\n",
       "   0.00000000+0.35355339j -0.25000000+0.25j        0.25000000-0.25j\n",
       "   0.25000000+0.25j       -0.25000000-0.25j      ]\n",
       " [ 0.35355339+0.j         -0.35355339+0.j          0.00000000-0.35355339j\n",
       "   0.00000000+0.35355339j  0.25000000-0.25j       -0.25000000+0.25j\n",
       "  -0.25000000-0.25j        0.25000000+0.25j      ]]"
      ]
     },
     "metadata": {},
     "output_type": "display_data"
    }
   ],
   "source": [
    "# coding it in QuTip because it's clearly the best tool we used in this class\n",
    "# 3-qubits QFT circuit\n",
    "N = 3 # we have 3-qubits for 3-qubits QFT\n",
    "QFT3_circuit = QubitCircuit(N) # Initialize quantum circuit with 3 qubits\n",
    "\n",
    "# add gates\n",
    "# topmost rail\n",
    "QFT3_circuit.add_gate(\"SNOT\", 2) # Hadamard acting on third qubit\n",
    "QFT3_circuit.add_gate(\"CPHASE\", 2, 1, arg_value=np.pi/2) # Controlled Phase (S) with target 2 and control 1\n",
    "QFT3_circuit.add_gate(\"CPHASE\", 2, 0, arg_value=np.pi/4) # Controlled Phase (T) with target 2 and control 0\n",
    "# middle rail\n",
    "QFT3_circuit.add_gate(\"SNOT\", 1) # Hadamard acting on second qubit\n",
    "QFT3_circuit.add_gate(\"CPHASE\", 1, 0, arg_value=np.pi/2) # Controlled Phase (S) with target 1 and control 0\n",
    "# bottom rail\n",
    "QFT3_circuit.add_gate(\"SNOT\", 0) # Hadamard acting on first qubit\n",
    "QFT3_circuit.add_gate(\"SWAP\", [2,0]) # Swap gate acting on qubits 0 and 2\n",
    "\n",
    "# find product of gates\n",
    "QFT3_gate = gate_sequence_product(QFT3_circuit.propagators())\n",
    "# print our S gate and print the QuTip S gate\n",
    "display(QFT3_gate.tidyup())"
   ]
  },
  {
   "cell_type": "markdown",
   "metadata": {},
   "source": [
    "b) How does the QFT you found above act on the state $\\left|0\\right\\rangle^{\\otimes n}$? Is this a general feature of the QFT? If yes, explain why. If not, explain why not."
   ]
  },
  {
   "cell_type": "code",
   "execution_count": 62,
   "metadata": {},
   "outputs": [
    {
     "data": {
      "text/latex": [
       "Quantum object: dims = [[2, 2, 2], [1, 1, 1]], shape = (8, 1), type = ket\\begin{equation*}\\left(\\begin{array}{*{11}c}1.0\\\\0.0\\\\0.0\\\\0.0\\\\0.0\\\\0.0\\\\0.0\\\\0.0\\\\\\end{array}\\right)\\end{equation*}"
      ],
      "text/plain": [
       "Quantum object: dims = [[2, 2, 2], [1, 1, 1]], shape = (8, 1), type = ket\n",
       "Qobj data =\n",
       "[[ 1.]\n",
       " [ 0.]\n",
       " [ 0.]\n",
       " [ 0.]\n",
       " [ 0.]\n",
       " [ 0.]\n",
       " [ 0.]\n",
       " [ 0.]]"
      ]
     },
     "metadata": {},
     "output_type": "display_data"
    },
    {
     "data": {
      "text/latex": [
       "Quantum object: dims = [[2, 2, 2], [1, 1, 1]], shape = (8, 1), type = ket\\begin{equation*}\\left(\\begin{array}{*{11}c}0.354\\\\0.354\\\\0.354\\\\0.354\\\\0.354\\\\0.354\\\\0.354\\\\0.354\\\\\\end{array}\\right)\\end{equation*}"
      ],
      "text/plain": [
       "Quantum object: dims = [[2, 2, 2], [1, 1, 1]], shape = (8, 1), type = ket\n",
       "Qobj data =\n",
       "[[ 0.35355339]\n",
       " [ 0.35355339]\n",
       " [ 0.35355339]\n",
       " [ 0.35355339]\n",
       " [ 0.35355339]\n",
       " [ 0.35355339]\n",
       " [ 0.35355339]\n",
       " [ 0.35355339]]"
      ]
     },
     "metadata": {},
     "output_type": "display_data"
    }
   ],
   "source": [
    "# build |000> state\n",
    "zero_ket = basis(2,0)\n",
    "zero_ket_2qubits = tensor(zeroo_ket, zeroo_ket)\n",
    "zero_ket_3qubits = tensor(zero_ket_2qubits, zero_ket)\n",
    "display(zero_ket_3qubits)\n",
    "\n",
    "# apply QFT 3-qubits on our |000> state\n",
    "display(QFT3_gate * zero_ket_3qubits)"
   ]
  },
  {
   "cell_type": "markdown",
   "metadata": {},
   "source": [
    "# How does QFT act on |0>^n and is this a general feature of QFT?\n",
    "\n",
    "As we can see, on the |0>^n state, the QFT applied to it yields the first column of the QFT gate, which is the equal superposition of all the states. As we can see from the output vector, all states have the exact same value and thus we are in an equal superposition of each of the possible states for the number of qubits we have. This is a feature of the QFT and will always happen when we run a |0...0> on the Quantum Fourier Transform for any arbitrary amount of qubits. The value of the coefficients will change to preserve the unit length of the vector, but the superposition will remain equal.\n",
    "\n",
    "This is a feature of the QFT because of the way it applies the Hadamard matrix. As we know, the Hadamard matrix creates a superposition. In the case with only one qubit, we only have one Hadamard matrix and thus the QFT creates a perfect superposition from the |0> state. Henceforth, we can prove by induction that as we expand, since all qubits are 0, the controlled gates are not activated and we really only have a series of rails on which only the Hadamard is applied."
   ]
  },
  {
   "cell_type": "markdown",
   "metadata": {},
   "source": [
    "c) How many gates does the QFT have? What is the gate complexity class in terms of the number of qubits $n$? The QFT is similar to the classical Discrete Fourier Transform. What is gate complexity class of this algorithm in terms of the number of $n$ bits? What does this tell you about the QFT and potentially algorithms that use it as a submodule?"
   ]
  },
  {
   "cell_type": "markdown",
   "metadata": {},
   "source": [
    "# Gates & QFT Complexity\n",
    "\n",
    "In this QFT with 3-qubits example, we have 3 Hadamard gates, 3 R gates and 1 swap gate. However, since we are on a 3-qubits system, this number of gates can run a total 2^n = 2^3 = 8. Expanding this into a recurrence equation gives us an O(2^n) gates. In terms of the number of qubits, this becomes O(n log n) runtime for the QFT, where n is the number of qubits.\n",
    "\n",
    "To contrast, the Discrete Fourier Transform runs in time O(n 2^n), where n is the number of bits. As a result, we can  clearly see that any algorithm that uses QFT as a submodule, like for instance Shor's algorithm and computing the discrete logarithm, receives an exponential speed-up from using QFT. QFT is exponentially faster compared to the Discrete Fourier Transform and thus all algorithms using it will benefit from this exponential speed-up. If the Discrete Fourier Transform is the bottleneck runtime component of an algorithm, then converting it to QFT brings the algorithm runtime in polynomial space, which is a major improvement, but we must keep in mind that for some algorithms, there might remain exponential subroutines which constitute bottlenecks for the runtime of the algorithm to become polynomial space. In any case the QFT provides a major speed improvement."
   ]
  },
  {
   "cell_type": "markdown",
   "metadata": {},
   "source": [
    "The phase estimation is an algorithm that uses the QFT. Phase estimation works as follows. For some unitary gate $U$ with eigenvector $\\left|u\\right\\rangle$ and eigenvalue $e^{i\\theta}$, we can estimate the eigenvalue $\\theta$ using the circuit:\n",
    "\n",
    "![hyperlink](https://www.dropbox.com/s/aipsymlmkmx7g1c/PhaseCircuit.svg?raw=1)\n",
    "\n",
    "where $QFT^{\\dagger}$ is the inverse of the quantum fourier transform. We will get the correct $n$-bit approximation to $\\theta$ with at least probability $p$ if we use $t$ qubits, where:\n",
    "\n",
    "\\begin{equation}\n",
    "t = n + \\left\\lceil \\log\\left(2 + \\frac{1}{2(1-p)}\\right) \\right\\rceil\n",
    "\\end{equation}\n",
    "\n",
    "and $\\left\\lceil x \\right\\rceil$ is the least integer greater than or equal to $x$ (e.g. $\\left\\lceil 1.2 \\right\\rceil = 2$). "
   ]
  },
  {
   "cell_type": "markdown",
   "metadata": {},
   "source": [
    "d) How many qubits would you need if you wanted the 10-bit approximation to your phase to a 90% certainty? 99%? 99.9%? 99.99999%? Describe a challenge that real quantum computers would face to actually realizing such a large certainty."
   ]
  },
  {
   "cell_type": "code",
   "execution_count": 70,
   "metadata": {},
   "outputs": [
    {
     "data": {
      "text/plain": [
       "12"
      ]
     },
     "metadata": {},
     "output_type": "display_data"
    },
    {
     "data": {
      "text/plain": [
       "14"
      ]
     },
     "metadata": {},
     "output_type": "display_data"
    },
    {
     "data": {
      "text/plain": [
       "17"
      ]
     },
     "metadata": {},
     "output_type": "display_data"
    },
    {
     "data": {
      "text/plain": [
       "26"
      ]
     },
     "metadata": {},
     "output_type": "display_data"
    }
   ],
   "source": [
    "# constant\n",
    "n = 10\n",
    "\n",
    "# define function to find t\n",
    "def t(p):\n",
    "    return int(n + np.ceil(np.log(2 + (1 / (2 * (1 - p))))))\n",
    "\n",
    "# 90% certainty\n",
    "p1 = 0.90\n",
    "display(t(p1)) # 12 qubits\n",
    "\n",
    "# 99% certainty\n",
    "p2 = 0.99\n",
    "display(t(p2)) # 14 qubits\n",
    "\n",
    "# 99.9% certainty\n",
    "p3 = 0.999\n",
    "display(t(p3)) # 17 qubits\n",
    "\n",
    "# 99.99999% certainty\n",
    "p4 = 0.9999999\n",
    "display(t(p4)) # 26 qubits"
   ]
  },
  {
   "cell_type": "markdown",
   "metadata": {},
   "source": [
    "# Challenge that quantum computers face to realize such certainty\n",
    "\n",
    "As we can see, the number of bits increases exponentially for a very small increase in certainty. Less than a 1% increase in certainty almost doubled the number of qubits required. As a result, one main challenge that quantum computers face to realize such certainty is simply in scaling. It is very difficult to scale a quantum computer as the decoherence gets very high. In order to realize such certainty, quantum computers would need to be able to scale easily and rapidly so that we could create large enough quantum computers that have enough qubits to realize this certainty. \n",
    "\n",
    "A better solution would be to keep smaller quantum computers and repeat the algorithm. With 90% certainty, we could run the algorithm twice, which doubles the runtime but makes the probability of failure 0.1^2, which is very small. We could repeat this many more times and thus the tradeoff becomes a slower runtime to avoid the need of having much larger quantum computers. Since the QFT runs in O(n log n) in the number of qubits and we are only using 12 qubits in this example, repeating the algorithm and amplifying the probability of success seems like the appropriate and most affordable choice."
   ]
  },
  {
   "cell_type": "markdown",
   "metadata": {},
   "source": [
    "e) How many gates are needed to perform the phase estimation algorithm? What does this tell you about the usefulness of the QFT? "
   ]
  },
  {
   "cell_type": "markdown",
   "metadata": {},
   "source": [
    "# Number of gates of phase estimation algorithm\n",
    "\n",
    "Judging from the circuit drawing, there is 1 Hadamard per qubit, so n Hadamard gates. There is 1 Controlled-U gate per qubit above the first qubit, so n - 1 Controlled-U gates, then we have the QFT which contains O(n^2) gates but is run on n - 1 gates here. As a result, we have O(n Hadamard + n - 1 Controlled-U + (n - 1)^2 from QFT) = O(n^2) gates. A more precise approximate would be roughly n + n - 1 + O(n^2) so roughly 2n + O(n^2) gates in the phase estimation algorithm, but since we are talking about asymptotic number of gates the algorithm gates growth factor is bounded by n^2. \n",
    "\n",
    "This shows how useful QFT is. In this case, QFT is responsible for the bottleneck runtime of the phase estimation algorithm, all the other gates grow in a linear fashion with the number of qubits. As a result, moving from Discrete Fourier Transform to QFT brings the phase estimation algorithm from exponential space to polynomial space, which makes it useful and usable (it solves an open problem, in a sense). This shows how useful and important QFT is as without QFT, this algorithm would remain exponential time and would not be anywhere as useful."
   ]
  }
 ],
 "metadata": {
  "kernelspec": {
   "display_name": "Python 3",
   "language": "python",
   "name": "python3"
  },
  "language_info": {
   "codemirror_mode": {
    "name": "ipython",
    "version": 3
   },
   "file_extension": ".py",
   "mimetype": "text/x-python",
   "name": "python",
   "nbconvert_exporter": "python",
   "pygments_lexer": "ipython3",
   "version": "3.6.1"
  }
 },
 "nbformat": 4,
 "nbformat_minor": 2
}
